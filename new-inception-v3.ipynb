{
 "cells": [
  {
   "cell_type": "code",
   "execution_count": 1,
   "id": "f1da70ac",
   "metadata": {
    "_cell_guid": "b1076dfc-b9ad-4769-8c92-a6c4dae69d19",
    "_uuid": "8f2839f25d086af736a60e9eeb907d3b93b6e0e5",
    "execution": {
     "iopub.execute_input": "2025-09-17T08:46:11.665772Z",
     "iopub.status.busy": "2025-09-17T08:46:11.665037Z",
     "iopub.status.idle": "2025-09-17T08:46:24.430749Z",
     "shell.execute_reply": "2025-09-17T08:46:24.430133Z"
    },
    "papermill": {
     "duration": 12.770609,
     "end_time": "2025-09-17T08:46:24.432137",
     "exception": false,
     "start_time": "2025-09-17T08:46:11.661528",
     "status": "completed"
    },
    "tags": []
   },
   "outputs": [],
   "source": [
    "# ============================\n",
    "# 1. Imports\n",
    "# ============================\n",
    "import torch\n",
    "import torch.nn as nn\n",
    "import torch.optim as optim\n",
    "from torch.utils.data import DataLoader, random_split\n",
    "import torchvision.transforms as transforms\n",
    "import torchvision.datasets as datasets\n",
    "import torchvision.models as models\n",
    "import matplotlib.pyplot as plt\n",
    "import numpy as np\n",
    "import seaborn as sns\n",
    "from sklearn.metrics import confusion_matrix, classification_report\n",
    "from tqdm import tqdm\n"
   ]
  },
  {
   "cell_type": "code",
   "execution_count": 2,
   "id": "a036205d",
   "metadata": {
    "execution": {
     "iopub.execute_input": "2025-09-17T08:46:24.437698Z",
     "iopub.status.busy": "2025-09-17T08:46:24.436948Z",
     "iopub.status.idle": "2025-09-17T08:46:27.823076Z",
     "shell.execute_reply": "2025-09-17T08:46:27.822213Z"
    },
    "papermill": {
     "duration": 3.389817,
     "end_time": "2025-09-17T08:46:27.824316",
     "exception": false,
     "start_time": "2025-09-17T08:46:24.434499",
     "status": "completed"
    },
    "tags": []
   },
   "outputs": [
    {
     "name": "stdout",
     "output_type": "stream",
     "text": [
      "Classes: ['Anthracnose', 'Bacterial Wilt', 'Belly Rot', 'Downy Mildew', 'Fresh Cucumber', 'Fresh Leaf', 'Pythium Fruit Rot']\n",
      "Train samples: 1129, Val samples: 1129\n"
     ]
    }
   ],
   "source": [
    "# ============================\n",
    "# 2. Dataset & Dataloaders\n",
    "# ============================\n",
    "\n",
    "# Transforms for Inception v4 (input size = 299x299)\n",
    "train_transform = transforms.Compose([\n",
    "    transforms.Resize((299, 299)),\n",
    "    transforms.RandomHorizontalFlip(),\n",
    "    transforms.RandomRotation(15),\n",
    "    transforms.ToTensor(),\n",
    "    transforms.Normalize([0.485, 0.456, 0.406],\n",
    "                         [0.229, 0.224, 0.225])\n",
    "])\n",
    "\n",
    "val_transform = transforms.Compose([\n",
    "    transforms.Resize((299, 299)),\n",
    "    transforms.ToTensor(),\n",
    "    transforms.Normalize([0.485, 0.456, 0.406],\n",
    "                         [0.229, 0.224, 0.225])\n",
    "])\n",
    "\n",
    "# Path to dataset\n",
    "data_dir = \"/kaggle/input/cucumber-disease/cucumber_disease\"\n",
    "\n",
    "# Load datasets separately to avoid transform overwrite\n",
    "full_dataset = datasets.ImageFolder(data_dir)\n",
    "train_size = int(0.7 * len(full_dataset))\n",
    "val_size = len(full_dataset) - train_size\n",
    "\n",
    "train_dataset, val_dataset = random_split(\n",
    "    full_dataset,\n",
    "    [train_size, val_size],\n",
    "    generator=torch.Generator().manual_seed(42)  # reproducibility\n",
    ")\n",
    "\n",
    "# Apply different transforms for train/val\n",
    "train_dataset = datasets.ImageFolder(data_dir, transform=train_transform)\n",
    "val_dataset = datasets.ImageFolder(data_dir, transform=val_transform)\n",
    "\n",
    "# Dataloaders\n",
    "train_loader = DataLoader(train_dataset, batch_size=32, shuffle=True)\n",
    "val_loader = DataLoader(val_dataset, batch_size=32, shuffle=False)\n",
    "\n",
    "# Classes\n",
    "class_names = full_dataset.classes\n",
    "print(\"Classes:\", class_names)\n",
    "print(f\"Train samples: {len(train_dataset)}, Val samples: {len(val_dataset)}\")\n"
   ]
  },
  {
   "cell_type": "code",
   "execution_count": 3,
   "id": "d0f4dd09",
   "metadata": {
    "execution": {
     "iopub.execute_input": "2025-09-17T08:46:27.829160Z",
     "iopub.status.busy": "2025-09-17T08:46:27.828927Z",
     "iopub.status.idle": "2025-09-17T08:46:28.587148Z",
     "shell.execute_reply": "2025-09-17T08:46:28.586508Z"
    },
    "papermill": {
     "duration": 0.762053,
     "end_time": "2025-09-17T08:46:28.588440",
     "exception": false,
     "start_time": "2025-09-17T08:46:27.826387",
     "status": "completed"
    },
    "tags": []
   },
   "outputs": [
    {
     "name": "stderr",
     "output_type": "stream",
     "text": [
      "/usr/local/lib/python3.11/dist-packages/torchvision/models/inception.py:43: FutureWarning: The default weight initialization of inception_v3 will be changed in future releases of torchvision. If you wish to keep the old behavior (which leads to long initialization times due to scipy/scipy#11299), please set init_weights=True.\n",
      "  warnings.warn(\n"
     ]
    }
   ],
   "source": [
    "# ============================\n",
    "# 3. Model, Loss, Optimizer\n",
    "# ============================\n",
    "\n",
    "import torch\n",
    "import torch.nn as nn\n",
    "import torch.optim as optim\n",
    "import torchvision.models as models  # Inception v3 comes from torchvision\n",
    "\n",
    "device = torch.device(\"cuda\" if torch.cuda.is_available() else \"cpu\")\n",
    "\n",
    "# Load pretrained Inception v3\n",
    "model = models.inception_v3(weights=None)  # pretrained on ImageNet\n",
    "\n",
    "# Replace classifier (Aux logits + FC for main output)\n",
    "num_classes = len(class_names)\n",
    "model.AuxLogits.fc = nn.Linear(model.AuxLogits.fc.in_features, num_classes)\n",
    "model.fc = nn.Linear(model.fc.in_features, num_classes)\n",
    "\n",
    "model = model.to(device)\n",
    "\n",
    "# Loss & Optimizer\n",
    "criterion = nn.CrossEntropyLoss()\n",
    "optimizer = optim.Adam(model.parameters(), lr=1e-4)\n"
   ]
  },
  {
   "cell_type": "code",
   "execution_count": 4,
   "id": "4cd72079",
   "metadata": {
    "execution": {
     "iopub.execute_input": "2025-09-17T08:46:28.593694Z",
     "iopub.status.busy": "2025-09-17T08:46:28.593414Z",
     "iopub.status.idle": "2025-09-17T09:33:46.353567Z",
     "shell.execute_reply": "2025-09-17T09:33:46.352752Z"
    },
    "papermill": {
     "duration": 2837.764171,
     "end_time": "2025-09-17T09:33:46.354787",
     "exception": false,
     "start_time": "2025-09-17T08:46:28.590616",
     "status": "completed"
    },
    "tags": []
   },
   "outputs": [
    {
     "name": "stderr",
     "output_type": "stream",
     "text": [
      "                                                                            \r"
     ]
    },
    {
     "name": "stdout",
     "output_type": "stream",
     "text": [
      "Epoch [1/20] Train Loss: 2.2692, Train Acc: 43.31% Val Loss: 1.4414, Val Acc: 54.65%\n"
     ]
    },
    {
     "name": "stderr",
     "output_type": "stream",
     "text": [
      "                                                                             \r"
     ]
    },
    {
     "name": "stdout",
     "output_type": "stream",
     "text": [
      "Epoch [2/20] Train Loss: 1.5069, Train Acc: 65.19% Val Loss: 0.7926, Val Acc: 73.87%\n"
     ]
    },
    {
     "name": "stderr",
     "output_type": "stream",
     "text": [
      "                                                                              \r"
     ]
    },
    {
     "name": "stdout",
     "output_type": "stream",
     "text": [
      "Epoch [3/20] Train Loss: 1.0519, Train Acc: 73.78% Val Loss: 0.5180, Val Acc: 80.96%\n"
     ]
    },
    {
     "name": "stderr",
     "output_type": "stream",
     "text": [
      "                                                                              \r"
     ]
    },
    {
     "name": "stdout",
     "output_type": "stream",
     "text": [
      "Epoch [4/20] Train Loss: 0.8431, Train Acc: 78.12% Val Loss: 0.4336, Val Acc: 83.70%\n"
     ]
    },
    {
     "name": "stderr",
     "output_type": "stream",
     "text": [
      "                                                                              \r"
     ]
    },
    {
     "name": "stdout",
     "output_type": "stream",
     "text": [
      "Epoch [5/20] Train Loss: 0.6932, Train Acc: 81.93% Val Loss: 0.3484, Val Acc: 86.45%\n"
     ]
    },
    {
     "name": "stderr",
     "output_type": "stream",
     "text": [
      "                                                                             \r"
     ]
    },
    {
     "name": "stdout",
     "output_type": "stream",
     "text": [
      "Epoch [6/20] Train Loss: 0.6410, Train Acc: 81.84% Val Loss: 0.2897, Val Acc: 88.75%\n"
     ]
    },
    {
     "name": "stderr",
     "output_type": "stream",
     "text": [
      "                                                                               \r"
     ]
    },
    {
     "name": "stdout",
     "output_type": "stream",
     "text": [
      "Epoch [7/20] Train Loss: 0.6016, Train Acc: 82.82% Val Loss: 0.2694, Val Acc: 90.26%\n"
     ]
    },
    {
     "name": "stderr",
     "output_type": "stream",
     "text": [
      "                                                                               \r"
     ]
    },
    {
     "name": "stdout",
     "output_type": "stream",
     "text": [
      "Epoch [8/20] Train Loss: 0.5089, Train Acc: 85.65% Val Loss: 0.3013, Val Acc: 89.28%\n"
     ]
    },
    {
     "name": "stderr",
     "output_type": "stream",
     "text": [
      "                                                                              \r"
     ]
    },
    {
     "name": "stdout",
     "output_type": "stream",
     "text": [
      "Epoch [9/20] Train Loss: 0.5120, Train Acc: 85.74% Val Loss: 0.2114, Val Acc: 92.91%\n"
     ]
    },
    {
     "name": "stderr",
     "output_type": "stream",
     "text": [
      "                                                                               \r"
     ]
    },
    {
     "name": "stdout",
     "output_type": "stream",
     "text": [
      "Epoch [10/20] Train Loss: 0.4478, Train Acc: 88.22% Val Loss: 0.1785, Val Acc: 94.60%\n"
     ]
    },
    {
     "name": "stderr",
     "output_type": "stream",
     "text": [
      "                                                                                \r"
     ]
    },
    {
     "name": "stdout",
     "output_type": "stream",
     "text": [
      "Epoch [11/20] Train Loss: 0.3865, Train Acc: 90.70% Val Loss: 0.1997, Val Acc: 92.38%\n"
     ]
    },
    {
     "name": "stderr",
     "output_type": "stream",
     "text": [
      "                                                                                \r"
     ]
    },
    {
     "name": "stdout",
     "output_type": "stream",
     "text": [
      "Epoch [12/20] Train Loss: 0.3817, Train Acc: 89.99% Val Loss: 0.2072, Val Acc: 93.00%\n"
     ]
    },
    {
     "name": "stderr",
     "output_type": "stream",
     "text": [
      "                                                                               \r"
     ]
    },
    {
     "name": "stdout",
     "output_type": "stream",
     "text": [
      "Epoch [13/20] Train Loss: 0.3810, Train Acc: 89.46% Val Loss: 0.1930, Val Acc: 92.56%\n"
     ]
    },
    {
     "name": "stderr",
     "output_type": "stream",
     "text": [
      "                                                                               \r"
     ]
    },
    {
     "name": "stdout",
     "output_type": "stream",
     "text": [
      "Epoch [14/20] Train Loss: 0.3782, Train Acc: 90.17% Val Loss: 0.1909, Val Acc: 93.09%\n"
     ]
    },
    {
     "name": "stderr",
     "output_type": "stream",
     "text": [
      "                                                                                \r"
     ]
    },
    {
     "name": "stdout",
     "output_type": "stream",
     "text": [
      "Epoch [15/20] Train Loss: 0.3477, Train Acc: 90.52% Val Loss: 0.1944, Val Acc: 93.00%\n"
     ]
    },
    {
     "name": "stderr",
     "output_type": "stream",
     "text": [
      "                                                                                 \r"
     ]
    },
    {
     "name": "stdout",
     "output_type": "stream",
     "text": [
      "Epoch [16/20] Train Loss: 0.3570, Train Acc: 90.70% Val Loss: 0.1212, Val Acc: 96.81%\n"
     ]
    },
    {
     "name": "stderr",
     "output_type": "stream",
     "text": [
      "                                                                                \r"
     ]
    },
    {
     "name": "stdout",
     "output_type": "stream",
     "text": [
      "Epoch [17/20] Train Loss: 0.2954, Train Acc: 92.29% Val Loss: 0.1164, Val Acc: 96.19%\n"
     ]
    },
    {
     "name": "stderr",
     "output_type": "stream",
     "text": [
      "                                                                                \r"
     ]
    },
    {
     "name": "stdout",
     "output_type": "stream",
     "text": [
      "Epoch [18/20] Train Loss: 0.2467, Train Acc: 93.98% Val Loss: 0.1111, Val Acc: 96.19%\n"
     ]
    },
    {
     "name": "stderr",
     "output_type": "stream",
     "text": [
      "                                                                                 \r"
     ]
    },
    {
     "name": "stdout",
     "output_type": "stream",
     "text": [
      "Epoch [19/20] Train Loss: 0.2320, Train Acc: 94.15% Val Loss: 0.1162, Val Acc: 96.72%\n"
     ]
    },
    {
     "name": "stderr",
     "output_type": "stream",
     "text": [
      "                                                                               "
     ]
    },
    {
     "name": "stdout",
     "output_type": "stream",
     "text": [
      "Epoch [20/20] Train Loss: 0.2349, Train Acc: 93.89% Val Loss: 0.1211, Val Acc: 95.13%\n",
      "\n",
      "Training complete. Best Validation Accuracy: 96.81%\n"
     ]
    },
    {
     "name": "stderr",
     "output_type": "stream",
     "text": [
      "\r"
     ]
    }
   ],
   "source": [
    "# ============================\n",
    "# 4. Training & Validation Loop (Fixed for Inception v3 + tqdm integration)\n",
    "# ============================\n",
    "from torchvision.models.inception import InceptionOutputs  # ✅ for inception outputs\n",
    "from tqdm import tqdm  # ✅ added from Block 2\n",
    "\n",
    "num_epochs = 20\n",
    "history = {\"train_loss\": [], \"val_loss\": [], \"train_acc\": [], \"val_acc\": []}\n",
    "\n",
    "best_val_acc = 0.0  # track best model\n",
    "\n",
    "for epoch in range(num_epochs):\n",
    "    # ---- Training ----\n",
    "    model.train()\n",
    "    running_loss, correct, total = 0, 0, 0\n",
    "\n",
    "    # ✅ Wrap training loader with tqdm (from Block 2)\n",
    "    train_pbar = tqdm(train_loader, desc=f\"Epoch {epoch+1}/{num_epochs} [Train]\", leave=False)\n",
    "\n",
    "    for images, labels in train_pbar:\n",
    "        images, labels = images.to(device), labels.to(device)\n",
    "\n",
    "        optimizer.zero_grad()\n",
    "        outputs = model(images)\n",
    "\n",
    "        # Handle Inception v3 output during training\n",
    "        if isinstance(outputs, InceptionOutputs):\n",
    "            loss1 = criterion(outputs.logits, labels)     # main classifier\n",
    "            loss2 = criterion(outputs.aux_logits, labels) # aux classifier\n",
    "            loss = loss1 + 0.4 * loss2                   # weighted sum\n",
    "            preds = outputs.logits\n",
    "        else:\n",
    "            loss = criterion(outputs, labels)\n",
    "            preds = outputs\n",
    "\n",
    "        loss.backward()\n",
    "        optimizer.step()\n",
    "\n",
    "        running_loss += loss.item() * images.size(0)\n",
    "        _, predicted = preds.max(1)\n",
    "        correct += predicted.eq(labels).sum().item()\n",
    "        total += labels.size(0)\n",
    "\n",
    "        # tqdm bar update\n",
    "        train_pbar.set_postfix(loss=loss.item())\n",
    "\n",
    "    train_loss = running_loss / total\n",
    "    train_acc = 100 * correct / total\n",
    "\n",
    "    # ---- Validation ----\n",
    "    model.eval()\n",
    "    running_loss, correct, total = 0, 0, 0\n",
    "\n",
    "    # ✅ Wrap validation loader with tqdm (from Block 2)\n",
    "    val_pbar = tqdm(val_loader, desc=f\"Epoch {epoch+1}/{num_epochs} [Val]\", leave=False)\n",
    "\n",
    "    with torch.no_grad():\n",
    "        for images, labels in val_pbar:\n",
    "            images, labels = images.to(device), labels.to(device)\n",
    "            outputs = model(images)\n",
    "\n",
    "            # Handle Inception v3 output during validation\n",
    "            if isinstance(outputs, InceptionOutputs):\n",
    "                preds = outputs.logits\n",
    "                loss = criterion(preds, labels)\n",
    "            else:\n",
    "                preds = outputs\n",
    "                loss = criterion(outputs, labels)\n",
    "\n",
    "            running_loss += loss.item() * images.size(0)\n",
    "            _, predicted = preds.max(1)\n",
    "            correct += predicted.eq(labels).sum().item()\n",
    "            total += labels.size(0)\n",
    "\n",
    "            # tqdm bar update\n",
    "            val_pbar.set_postfix(loss=loss.item())\n",
    "\n",
    "    val_loss = running_loss / total\n",
    "    val_acc = 100 * correct / total\n",
    "\n",
    "    # Save history\n",
    "    history[\"train_loss\"].append(train_loss)\n",
    "    history[\"val_loss\"].append(val_loss)\n",
    "    history[\"train_acc\"].append(train_acc)\n",
    "    history[\"val_acc\"].append(val_acc)\n",
    "\n",
    "    # ✅ Save best model (kept from Block 1)\n",
    "    if val_acc > best_val_acc:\n",
    "        best_val_acc = val_acc\n",
    "        torch.save(model.state_dict(), \"best_inceptionv3.pth\")\n",
    "\n",
    "    # ✅ Epoch summary (kept from Block 1)\n",
    "    print(f\"Epoch [{epoch+1}/{num_epochs}] \"\n",
    "          f\"Train Loss: {train_loss:.4f}, Train Acc: {train_acc:.2f}% \"\n",
    "          f\"Val Loss: {val_loss:.4f}, Val Acc: {val_acc:.2f}%\")\n",
    "\n",
    "print(f\"\\nTraining complete. Best Validation Accuracy: {best_val_acc:.2f}%\")\n"
   ]
  },
  {
   "cell_type": "code",
   "execution_count": 5,
   "id": "4d3ddc31",
   "metadata": {
    "execution": {
     "iopub.execute_input": "2025-09-17T09:33:46.635128Z",
     "iopub.status.busy": "2025-09-17T09:33:46.634868Z",
     "iopub.status.idle": "2025-09-17T09:33:46.945320Z",
     "shell.execute_reply": "2025-09-17T09:33:46.944638Z"
    },
    "papermill": {
     "duration": 0.474721,
     "end_time": "2025-09-17T09:33:46.946410",
     "exception": false,
     "start_time": "2025-09-17T09:33:46.471689",
     "status": "completed"
    },
    "tags": []
   },
   "outputs": [
    {
     "data": {
      "image/png": "[encoded data removed]",
      "text/plain": [
       "<Figure size 1200x500 with 2 Axes>"
      ]
     },
     "metadata": {},
     "output_type": "display_data"
    }
   ],
   "source": [
    "# ============================\n",
    "# 5. Training History Plots\n",
    "# ============================\n",
    "epochs = range(1, num_epochs+1)\n",
    "\n",
    "plt.figure(figsize=(12,5))\n",
    "\n",
    "# Loss\n",
    "plt.subplot(1,2,1)\n",
    "plt.plot(epochs, history[\"train_loss\"], label=\"Train Loss\")\n",
    "plt.plot(epochs, history[\"val_loss\"], label=\"Val Loss\")\n",
    "plt.xlabel(\"Epochs\")\n",
    "plt.ylabel(\"Loss\")\n",
    "plt.title(\"Loss per Epoch\")\n",
    "plt.legend()\n",
    "\n",
    "# Accuracy\n",
    "plt.subplot(1,2,2)\n",
    "plt.plot(epochs, history[\"train_acc\"], label=\"Train Acc\")\n",
    "plt.plot(epochs, history[\"val_acc\"], label=\"Val Acc\")\n",
    "plt.xlabel(\"Epochs\")\n",
    "plt.ylabel(\"Accuracy (%)\")\n",
    "plt.title(\"Accuracy per Epoch\")\n",
    "plt.legend()\n",
    "\n",
    "plt.show()\n"
   ]
  },
  {
   "cell_type": "code",
   "execution_count": 6,
   "id": "371549c4",
   "metadata": {
    "execution": {
     "iopub.execute_input": "2025-09-17T09:33:47.182432Z",
     "iopub.status.busy": "2025-09-17T09:33:47.182194Z",
     "iopub.status.idle": "2025-09-17T09:34:53.220279Z",
     "shell.execute_reply": "2025-09-17T09:34:53.219594Z"
    },
    "papermill": {
     "duration": 66.272771,
     "end_time": "2025-09-17T09:34:53.336651",
     "exception": false,
     "start_time": "2025-09-17T09:33:47.063880",
     "status": "completed"
    },
    "tags": []
   },
   "outputs": [
    {
     "data": {
      "image/png": "[encoded data removed]",
      "text/plain": [
       "<Figure size 800x600 with 2 Axes>"
      ]
     },
     "metadata": {},
     "output_type": "display_data"
    },
    {
     "name": "stdout",
     "output_type": "stream",
     "text": [
      "\n",
      "Classification Report:\n",
      "\n",
      "                   precision    recall  f1-score   support\n",
      "\n",
      "      Anthracnose       0.99      0.86      0.92       160\n",
      "   Bacterial Wilt       0.99      0.96      0.97       160\n",
      "        Belly Rot       0.90      1.00      0.95       160\n",
      "     Downy Mildew       0.94      0.96      0.95       160\n",
      "   Fresh Cucumber       0.99      0.95      0.97       160\n",
      "       Fresh Leaf       0.86      0.97      0.91       160\n",
      "Pythium Fruit Rot       1.00      0.95      0.97       169\n",
      "\n",
      "         accuracy                           0.95      1129\n",
      "        macro avg       0.95      0.95      0.95      1129\n",
      "     weighted avg       0.96      0.95      0.95      1129\n",
      "\n"
     ]
    }
   ],
   "source": [
    "# ============================\n",
    "# 6. Evaluation: Confusion Matrix & Report\n",
    "# ============================\n",
    "y_true, y_pred = [], []\n",
    "model.eval()\n",
    "with torch.no_grad():\n",
    "    for images, labels in val_loader:\n",
    "        images, labels = images.to(device), labels.to(device)\n",
    "        outputs = model(images)\n",
    "        _, predicted = outputs.max(1)\n",
    "        y_true.extend(labels.cpu().numpy())\n",
    "        y_pred.extend(predicted.cpu().numpy())\n",
    "\n",
    "# Confusion Matrix\n",
    "cm = confusion_matrix(y_true, y_pred)\n",
    "plt.figure(figsize=(8,6))\n",
    "sns.heatmap(cm, annot=True, fmt=\"d\", cmap=\"Blues\",\n",
    "            xticklabels=class_names, yticklabels=class_names)\n",
    "plt.xlabel(\"Predicted\")\n",
    "plt.ylabel(\"True\")\n",
    "plt.title(\"Confusion Matrix\")\n",
    "plt.show()\n",
    "\n",
    "# Classification Report\n",
    "print(\"\\nClassification Report:\\n\")\n",
    "print(classification_report(y_true, y_pred, target_names=class_names))\n"
   ]
  },
  {
   "cell_type": "code",
   "execution_count": null,
   "id": "24d2f38f",
   "metadata": {
    "papermill": {
     "duration": 0.115058,
     "end_time": "2025-09-17T09:34:53.568704",
     "exception": false,
     "start_time": "2025-09-17T09:34:53.453646",
     "status": "completed"
    },
    "tags": []
   },
   "outputs": [],
   "source": []
  }
 ],
 "metadata": {
  "kaggle": {
   "accelerator": "gpu",
   "dataSources": [
    {
     "datasetId": 8247646,
     "sourceId": 13026052,
     "sourceType": "datasetVersion"
    }
   ],
   "dockerImageVersionId": 31090,
   "isGpuEnabled": true,
   "isInternetEnabled": false,
   "language": "python",
   "sourceType": "notebook"
  },
  "kernelspec": {
   "display_name": "Python 3",
   "language": "python",
   "name": "python3"
  },
  "language_info": {
   "codemirror_mode": {
    "name": "ipython",
    "version": 3
   },
   "file_extension": ".py",
   "mimetype": "text/x-python",
   "name": "python",
   "nbconvert_exporter": "python",
   "pygments_lexer": "ipython3",
   "version": "3.11.13"
  },
  "papermill": {
   "default_parameters": {},
   "duration": 2928.457592,
   "end_time": "2025-09-17T09:34:55.899870",
   "environment_variables": {},
   "exception": null,
   "input_path": "__notebook__.ipynb",
   "output_path": "__notebook__.ipynb",
   "parameters": {},
   "start_time": "2025-09-17T08:46:07.442278",
   "version": "2.6.0"
  }
 },
 "nbformat": 4,
 "nbformat_minor": 5
}
