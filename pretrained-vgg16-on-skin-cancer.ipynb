{
 "cells": [
  {
   "cell_type": "code",
   "execution_count": 1,
   "id": "6b21d2e3",
   "metadata": {
    "execution": {
     "iopub.execute_input": "2025-09-11T06:32:25.078482Z",
     "iopub.status.busy": "2025-09-11T06:32:25.078242Z",
     "iopub.status.idle": "2025-09-11T06:32:45.724141Z",
     "shell.execute_reply": "2025-09-11T06:32:45.723267Z"
    },
    "papermill": {
     "duration": 20.650909,
     "end_time": "2025-09-11T06:32:45.725375",
     "exception": false,
     "start_time": "2025-09-11T06:32:25.074466",
     "status": "completed"
    },
    "tags": []
   },
   "outputs": [
    {
     "name": "stdout",
     "output_type": "stream",
     "text": [
      "Using device: cuda\n",
      "Train samples: 8644 | Val samples: 961 | Test samples: 1000\n",
      "Classes: ['benign', 'malignant']\n"
     ]
    }
   ],
   "source": [
    "# ======================\n",
    "# Block 1: Imports & Setup\n",
    "# ======================\n",
    "import torch\n",
    "import torch.nn as nn\n",
    "import torch.optim as optim\n",
    "from torch.utils.data import DataLoader, random_split\n",
    "from torchvision import transforms, models, datasets\n",
    "from PIL import Image\n",
    "import matplotlib.pyplot as plt\n",
    "import seaborn as sns\n",
    "import numpy as np\n",
    "import pandas as pd\n",
    "import os\n",
    "from sklearn.metrics import confusion_matrix\n",
    "from tqdm import tqdm\n",
    "\n",
    "# Check device\n",
    "device = torch.device(\"cuda\" if torch.cuda.is_available() else \"cpu\")\n",
    "print(\"Using device:\", device)\n",
    "\n",
    "\n",
    "# ======================\n",
    "# Paths & Parameters\n",
    "# ======================\n",
    "train_path = \"/kaggle/input/melanoma-skin-cancer-dataset-of-10000-images/melanoma_cancer_dataset/train\"\n",
    "test_path  = \"/kaggle/input/melanoma-skin-cancer-dataset-of-10000-images/melanoma_cancer_dataset/test\"\n",
    "\n",
    "img_size   = 224\n",
    "batch_size = 32\n",
    "epochs     = 10\n",
    "\n",
    "# ======================\n",
    "# Transforms\n",
    "# ======================\n",
    "train_transforms = transforms.Compose([\n",
    "    transforms.Resize((img_size, img_size)),\n",
    "    transforms.RandomHorizontalFlip(),\n",
    "    transforms.RandomRotation(15),\n",
    "    transforms.ToTensor(),\n",
    "    transforms.Normalize([0.5, 0.5, 0.5], [0.5, 0.5, 0.5])  # ✅ RGB normalize\n",
    "])\n",
    "\n",
    "val_test_transforms = transforms.Compose([\n",
    "    transforms.Resize((img_size, img_size)),\n",
    "    transforms.ToTensor(),\n",
    "    transforms.Normalize([0.5, 0.5, 0.5], [0.5, 0.5, 0.5])  # ✅ RGB normalize\n",
    "])\n",
    "\n",
    "# ======================\n",
    "# Datasets\n",
    "# ======================\n",
    "train_valid_dataset = datasets.ImageFolder(root=train_path, transform=train_transforms)\n",
    "test_dataset        = datasets.ImageFolder(root=test_path,  transform=val_test_transforms)\n",
    "\n",
    "# Split train_valid into train/val\n",
    "train_size = int(0.9 * len(train_valid_dataset))\n",
    "val_size   = len(train_valid_dataset) - train_size\n",
    "train_data, val_data = random_split(train_valid_dataset, [train_size, val_size])\n",
    "\n",
    "# Apply val transforms\n",
    "val_data.dataset.transform = val_test_transforms\n",
    "\n",
    "# ======================\n",
    "# Dataloaders\n",
    "# ======================\n",
    "train_loader = DataLoader(train_data, batch_size=batch_size, shuffle=True)\n",
    "val_loader   = DataLoader(val_data, batch_size=batch_size, shuffle=False)\n",
    "test_loader  = DataLoader(test_dataset, batch_size=batch_size, shuffle=False)\n",
    "\n",
    "# ======================\n",
    "# Class names\n",
    "# ======================\n",
    "class_names = train_valid_dataset.classes\n",
    "\n",
    "print(f\"Train samples: {len(train_data)} | Val samples: {len(val_data)} | Test samples: {len(test_dataset)}\")\n",
    "print(\"Classes:\", class_names)\n"
   ]
  },
  {
   "cell_type": "code",
   "execution_count": 2,
   "id": "0308149e",
   "metadata": {
    "execution": {
     "iopub.execute_input": "2025-09-11T06:32:45.730697Z",
     "iopub.status.busy": "2025-09-11T06:32:45.730319Z",
     "iopub.status.idle": "2025-09-11T06:32:49.329811Z",
     "shell.execute_reply": "2025-09-11T06:32:49.328994Z"
    },
    "papermill": {
     "duration": 3.603247,
     "end_time": "2025-09-11T06:32:49.330953",
     "exception": false,
     "start_time": "2025-09-11T06:32:45.727706",
     "status": "completed"
    },
    "tags": []
   },
   "outputs": [
    {
     "name": "stdout",
     "output_type": "stream",
     "text": [
      "Dataset sizes -> Train: 8644, Val: 961, Test: 1000\n",
      "Classes: ['benign', 'malignant']\n"
     ]
    }
   ],
   "source": [
    "# ======================\n",
    "# Block 2: Dataset & Dataloaders\n",
    "# ======================\n",
    "\n",
    "from torchvision import datasets\n",
    "\n",
    "# Transforms\n",
    "train_transforms = transforms.Compose([\n",
    "    transforms.Resize((img_size, img_size)),\n",
    "    transforms.RandomHorizontalFlip(),\n",
    "    transforms.RandomRotation(15),\n",
    "    transforms.ToTensor(),\n",
    "    transforms.Normalize([0.5, 0.5, 0.5], [0.5, 0.5, 0.5])  # ✅ RGB normalize\n",
    "])\n",
    "\n",
    "val_test_transforms = transforms.Compose([\n",
    "    transforms.Resize((img_size, img_size)),\n",
    "    transforms.ToTensor(),\n",
    "    transforms.Normalize([0.5, 0.5, 0.5], [0.5, 0.5, 0.5])  # ✅ RGB normalize\n",
    "])\n",
    "\n",
    "# Datasets (ImageFolder instead of MultiBoneDataset)\n",
    "train_path = \"/kaggle/input/melanoma-skin-cancer-dataset-of-10000-images/melanoma_cancer_dataset/train\"\n",
    "test_path  = \"/kaggle/input/melanoma-skin-cancer-dataset-of-10000-images/melanoma_cancer_dataset/test\"\n",
    "\n",
    "train_valid_dataset = datasets.ImageFolder(root=train_path, transform=train_transforms)\n",
    "test_dataset        = datasets.ImageFolder(root=test_path,  transform=val_test_transforms)\n",
    "\n",
    "# Split train_valid into train/val\n",
    "train_size = int(0.9 * len(train_valid_dataset))\n",
    "val_size   = len(train_valid_dataset) - train_size\n",
    "train_data, val_data = random_split(train_valid_dataset, [train_size, val_size])\n",
    "\n",
    "# Apply val transforms\n",
    "val_data.dataset.transform = val_test_transforms\n",
    "\n",
    "# Dataloaders\n",
    "train_loader = DataLoader(train_data, batch_size=batch_size, shuffle=True)\n",
    "val_loader   = DataLoader(val_data, batch_size=batch_size, shuffle=False)\n",
    "test_loader  = DataLoader(test_dataset, batch_size=batch_size, shuffle=False)\n",
    "\n",
    "# Class names\n",
    "class_names = train_valid_dataset.classes\n",
    "\n",
    "# Print dataset info\n",
    "print(f\"Dataset sizes -> Train: {len(train_data)}, Val: {len(val_data)}, Test: {len(test_dataset)}\")\n",
    "print(\"Classes:\", class_names)\n"
   ]
  },
  {
   "cell_type": "code",
   "execution_count": 3,
   "id": "1f3cf8ef",
   "metadata": {
    "execution": {
     "iopub.execute_input": "2025-09-11T06:32:49.335830Z",
     "iopub.status.busy": "2025-09-11T06:32:49.335601Z",
     "iopub.status.idle": "2025-09-11T06:32:51.664185Z",
     "shell.execute_reply": "2025-09-11T06:32:51.663372Z"
    },
    "papermill": {
     "duration": 2.332234,
     "end_time": "2025-09-11T06:32:51.665301",
     "exception": false,
     "start_time": "2025-09-11T06:32:49.333067",
     "status": "completed"
    },
    "tags": []
   },
   "outputs": [
    {
     "name": "stdout",
     "output_type": "stream",
     "text": [
      "VGG16 ready with 2 output classes (fine-tuning last 30%).\n"
     ]
    }
   ],
   "source": [
    "# ======================\n",
    "# Block 3: Model Setup with Fine-Tuning (VGG16)\n",
    "# ======================\n",
    "num_classes = len(class_names)\n",
    "model_name = \"VGG16\"\n",
    "\n",
    "# Load VGG16 with pretrained weights\n",
    "model = models.vgg16(weights=None)\n",
    "\n",
    "# Replace classifier\n",
    "model.classifier[6] = nn.Linear(model.classifier[6].in_features, num_classes)\n",
    "\n",
    "# Freeze all layers first\n",
    "for param in model.parameters():\n",
    "    param.requires_grad = False\n",
    "\n",
    "# Unfreeze last 30% of parameters for fine-tuning\n",
    "params = list(model.parameters())\n",
    "unfreeze_layers = int(0.3 * len(params))\n",
    "for param in params[-unfreeze_layers:]:\n",
    "    param.requires_grad = True\n",
    "\n",
    "# Move to device\n",
    "model = model.to(device)\n",
    "\n",
    "# Loss & Optimizer (only trainable params)\n",
    "criterion = nn.CrossEntropyLoss()\n",
    "optimizer = optim.Adam(filter(lambda p: p.requires_grad, model.parameters()), lr=1e-4)\n",
    "\n",
    "print(f\"{model_name} ready with {num_classes} output classes (fine-tuning last 30%).\")\n"
   ]
  },
  {
   "cell_type": "code",
   "execution_count": 4,
   "id": "0429ef77",
   "metadata": {
    "execution": {
     "iopub.execute_input": "2025-09-11T06:32:51.670455Z",
     "iopub.status.busy": "2025-09-11T06:32:51.670226Z",
     "iopub.status.idle": "2025-09-11T06:43:18.824096Z",
     "shell.execute_reply": "2025-09-11T06:43:18.823286Z"
    },
    "papermill": {
     "duration": 627.157953,
     "end_time": "2025-09-11T06:43:18.825417",
     "exception": false,
     "start_time": "2025-09-11T06:32:51.667464",
     "status": "completed"
    },
    "tags": []
   },
   "outputs": [
    {
     "name": "stdout",
     "output_type": "stream",
     "text": [
      "\n",
      "Epoch 1/10\n"
     ]
    },
    {
     "name": "stderr",
     "output_type": "stream",
     "text": [
      "                                                           \r"
     ]
    },
    {
     "name": "stdout",
     "output_type": "stream",
     "text": [
      "Train Loss: 0.3650, Train Acc: 0.8325 | Val Loss: 0.2587, Val Acc: 0.8928\n",
      "\n",
      "Epoch 2/10\n"
     ]
    },
    {
     "name": "stderr",
     "output_type": "stream",
     "text": [
      "                                                           \r"
     ]
    },
    {
     "name": "stdout",
     "output_type": "stream",
     "text": [
      "Train Loss: 0.2693, Train Acc: 0.8862 | Val Loss: 0.2494, Val Acc: 0.8959\n",
      "\n",
      "Epoch 3/10\n"
     ]
    },
    {
     "name": "stderr",
     "output_type": "stream",
     "text": [
      "                                                           \r"
     ]
    },
    {
     "name": "stdout",
     "output_type": "stream",
     "text": [
      "Train Loss: 0.2442, Train Acc: 0.8982 | Val Loss: 0.2288, Val Acc: 0.9074\n",
      "\n",
      "Epoch 4/10\n"
     ]
    },
    {
     "name": "stderr",
     "output_type": "stream",
     "text": [
      "                                                           \r"
     ]
    },
    {
     "name": "stdout",
     "output_type": "stream",
     "text": [
      "Train Loss: 0.2344, Train Acc: 0.9009 | Val Loss: 0.2169, Val Acc: 0.9136\n",
      "\n",
      "Epoch 5/10\n"
     ]
    },
    {
     "name": "stderr",
     "output_type": "stream",
     "text": [
      "                                                           \r"
     ]
    },
    {
     "name": "stdout",
     "output_type": "stream",
     "text": [
      "Train Loss: 0.2119, Train Acc: 0.9138 | Val Loss: 0.2447, Val Acc: 0.8928\n",
      "\n",
      "Epoch 6/10\n"
     ]
    },
    {
     "name": "stderr",
     "output_type": "stream",
     "text": [
      "                                                           \r"
     ]
    },
    {
     "name": "stdout",
     "output_type": "stream",
     "text": [
      "Train Loss: 0.1993, Train Acc: 0.9193 | Val Loss: 0.2396, Val Acc: 0.9001\n",
      "\n",
      "Epoch 7/10\n"
     ]
    },
    {
     "name": "stderr",
     "output_type": "stream",
     "text": [
      "                                                           \r"
     ]
    },
    {
     "name": "stdout",
     "output_type": "stream",
     "text": [
      "Train Loss: 0.1858, Train Acc: 0.9255 | Val Loss: 0.2727, Val Acc: 0.8887\n",
      "\n",
      "Epoch 8/10\n"
     ]
    },
    {
     "name": "stderr",
     "output_type": "stream",
     "text": [
      "                                                           \r"
     ]
    },
    {
     "name": "stdout",
     "output_type": "stream",
     "text": [
      "Train Loss: 0.1824, Train Acc: 0.9276 | Val Loss: 0.2152, Val Acc: 0.9157\n",
      "\n",
      "Epoch 9/10\n"
     ]
    },
    {
     "name": "stderr",
     "output_type": "stream",
     "text": [
      "                                                           \r"
     ]
    },
    {
     "name": "stdout",
     "output_type": "stream",
     "text": [
      "Train Loss: 0.1727, Train Acc: 0.9331 | Val Loss: 0.2222, Val Acc: 0.9147\n",
      "\n",
      "Epoch 10/10\n"
     ]
    },
    {
     "name": "stderr",
     "output_type": "stream",
     "text": [
      "                                                           \r"
     ]
    },
    {
     "name": "stdout",
     "output_type": "stream",
     "text": [
      "Train Loss: 0.1642, Train Acc: 0.9363 | Val Loss: 0.2753, Val Acc: 0.8970\n"
     ]
    }
   ],
   "source": [
    "# ======================\n",
    "# Block 4: Training Loop\n",
    "# ======================\n",
    "def train_model(model, criterion, optimizer, train_loader, val_loader, epochs, device):\n",
    "    history = {\"train_loss\": [], \"val_loss\": [], \"train_acc\": [], \"val_acc\": []}\n",
    "\n",
    "    for epoch in range(epochs):\n",
    "        print(f\"\\nEpoch {epoch+1}/{epochs}\")\n",
    "        model.train()\n",
    "        running_loss, correct, total = 0.0, 0, 0\n",
    "\n",
    "        # Training\n",
    "        for images, labels in tqdm(train_loader, desc=\"Training\", leave=False):\n",
    "            images, labels = images.to(device), labels.to(device)\n",
    "            optimizer.zero_grad()\n",
    "            outputs = model(images)\n",
    "            loss = criterion(outputs, labels)\n",
    "            loss.backward()\n",
    "            optimizer.step()\n",
    "\n",
    "            running_loss += loss.item() * images.size(0)\n",
    "            _, preds = torch.max(outputs, 1)\n",
    "            correct += (preds == labels).sum().item()\n",
    "            total += labels.size(0)\n",
    "\n",
    "        train_loss = running_loss / total\n",
    "        train_acc = correct / total\n",
    "\n",
    "        # Validation\n",
    "        model.eval()\n",
    "        val_loss, val_correct, val_total = 0.0, 0, 0\n",
    "        with torch.no_grad():\n",
    "            for images, labels in val_loader:\n",
    "                images, labels = images.to(device), labels.to(device)\n",
    "                outputs = model(images)\n",
    "                loss = criterion(outputs, labels)\n",
    "\n",
    "                val_loss += loss.item() * images.size(0)\n",
    "                _, preds = torch.max(outputs, 1)\n",
    "                val_correct += (preds == labels).sum().item()\n",
    "                val_total += labels.size(0)\n",
    "\n",
    "        val_loss /= val_total\n",
    "        val_acc = val_correct / val_total\n",
    "\n",
    "        history[\"train_loss\"].append(train_loss)\n",
    "        history[\"val_loss\"].append(val_loss)\n",
    "        history[\"train_acc\"].append(train_acc)\n",
    "        history[\"val_acc\"].append(val_acc)\n",
    "\n",
    "        print(f\"Train Loss: {train_loss:.4f}, Train Acc: {train_acc:.4f} | \"\n",
    "              f\"Val Loss: {val_loss:.4f}, Val Acc: {val_acc:.4f}\")\n",
    "\n",
    "    return history\n",
    "\n",
    "# Run training\n",
    "history = train_model(model, criterion, optimizer, train_loader, val_loader, epochs, device)"
   ]
  },
  {
   "cell_type": "code",
   "execution_count": 5,
   "id": "4af82042",
   "metadata": {
    "execution": {
     "iopub.execute_input": "2025-09-11T06:43:19.037334Z",
     "iopub.status.busy": "2025-09-11T06:43:19.036822Z",
     "iopub.status.idle": "2025-09-11T06:43:19.371919Z",
     "shell.execute_reply": "2025-09-11T06:43:19.371232Z"
    },
    "papermill": {
     "duration": 0.44049,
     "end_time": "2025-09-11T06:43:19.373281",
     "exception": false,
     "start_time": "2025-09-11T06:43:18.932791",
     "status": "completed"
    },
    "tags": []
   },
   "outputs": [
    {
     "data": {
      "image/png": "[encoded data removed]",
      "text/plain": [
       "<Figure size 1200x500 with 2 Axes>"
      ]
     },
     "metadata": {},
     "output_type": "display_data"
    }
   ],
   "source": [
    "# ======================\n",
    "# Block 5: Plot Training & Validation Curves\n",
    "# ======================\n",
    "def plot_history(history, model_name):\n",
    "    epochs = range(1, len(history[\"train_loss\"]) + 1)\n",
    "\n",
    "    plt.figure(figsize=(12,5))\n",
    "    \n",
    "    # Loss\n",
    "    plt.subplot(1,2,1)\n",
    "    plt.plot(epochs, history[\"train_loss\"], 'b-o', label=\"Train Loss\")\n",
    "    plt.plot(epochs, history[\"val_loss\"], 'r-o', label=\"Val Loss\")\n",
    "    plt.xlabel(\"Epochs\")\n",
    "    plt.ylabel(\"Loss\")\n",
    "    plt.title(f\"{model_name} - Training vs Validation Loss\")\n",
    "    plt.legend()\n",
    "\n",
    "    # Accuracy\n",
    "    plt.subplot(1,2,2)\n",
    "    plt.plot(epochs, history[\"train_acc\"], 'b-o', label=\"Train Acc\")\n",
    "    plt.plot(epochs, history[\"val_acc\"], 'r-o', label=\"Val Acc\")\n",
    "    plt.xlabel(\"Epochs\")\n",
    "    plt.ylabel(\"Accuracy\")\n",
    "    plt.title(f\"{model_name} - Training vs Validation Accuracy\")\n",
    "    plt.legend()\n",
    "\n",
    "    plt.show()\n",
    "\n",
    "# Call after training\n",
    "plot_history(history, model_name)\n"
   ]
  },
  {
   "cell_type": "code",
   "execution_count": 6,
   "id": "034f3924",
   "metadata": {
    "execution": {
     "iopub.execute_input": "2025-09-11T06:43:19.637135Z",
     "iopub.status.busy": "2025-09-11T06:43:19.636852Z",
     "iopub.status.idle": "2025-09-11T06:43:29.865879Z",
     "shell.execute_reply": "2025-09-11T06:43:29.865094Z"
    },
    "papermill": {
     "duration": 10.334538,
     "end_time": "2025-09-11T06:43:29.866967",
     "exception": false,
     "start_time": "2025-09-11T06:43:19.532429",
     "status": "completed"
    },
    "tags": []
   },
   "outputs": [
    {
     "data": {
      "image/png": "[encoded data removed]",
      "text/plain": [
       "<Figure size 600x500 with 2 Axes>"
      ]
     },
     "metadata": {},
     "output_type": "display_data"
    },
    {
     "name": "stdout",
     "output_type": "stream",
     "text": [
      "\n",
      "=== Test Metrics ===\n",
      "Accuracy:  0.9110\n",
      "Precision: 0.9205\n",
      "Recall:    0.9110\n",
      "F1 Score:  0.9105\n"
     ]
    }
   ],
   "source": [
    "# ======================\n",
    "# Block 6: Test Evaluation (Confusion Matrix + Metrics)\n",
    "# ======================\n",
    "from sklearn.metrics import confusion_matrix, accuracy_score, precision_score, recall_score, f1_score\n",
    "import seaborn as sns\n",
    "import matplotlib.pyplot as plt\n",
    "import numpy as np\n",
    "import torch\n",
    "\n",
    "def evaluate_model(model, test_loader, class_names, device):\n",
    "    model.eval()\n",
    "    y_true, y_pred = [], []\n",
    "\n",
    "    with torch.no_grad():\n",
    "        for images, labels in test_loader:\n",
    "            images, labels = images.to(device), labels.to(device)\n",
    "            outputs = model(images)\n",
    "            _, preds = torch.max(outputs, 1)\n",
    "            y_true.extend(labels.cpu().numpy())\n",
    "            y_pred.extend(preds.cpu().numpy())\n",
    "\n",
    "    # Confusion matrix\n",
    "    cm = confusion_matrix(y_true, y_pred)\n",
    "    plt.figure(figsize=(6,5))\n",
    "    sns.heatmap(cm, annot=True, fmt=\"d\", cmap=\"Blues\",\n",
    "                xticklabels=class_names, yticklabels=class_names)\n",
    "    plt.xlabel(\"Predicted\")\n",
    "    plt.ylabel(\"True\")\n",
    "    plt.title(\"Confusion Matrix (Test Data)\")\n",
    "    plt.show()\n",
    "\n",
    "    # Metrics\n",
    "    accuracy  = accuracy_score(y_true, y_pred)\n",
    "    precision = precision_score(y_true, y_pred, average=\"macro\", zero_division=0)\n",
    "    recall    = recall_score(y_true, y_pred, average=\"macro\", zero_division=0)\n",
    "    f1        = f1_score(y_true, y_pred, average=\"macro\", zero_division=0)\n",
    "\n",
    "    print(\"\\n=== Test Metrics ===\")\n",
    "    print(f\"Accuracy:  {accuracy:.4f}\")\n",
    "    print(f\"Precision: {precision:.4f}\")\n",
    "    print(f\"Recall:    {recall:.4f}\")\n",
    "    print(f\"F1 Score:  {f1:.4f}\")\n",
    "\n",
    "    return accuracy, precision, recall, f1\n",
    "\n",
    "# Run evaluation\n",
    "test_metrics = evaluate_model(model, test_loader, class_names, device)\n"
   ]
  },
  {
   "cell_type": "code",
   "execution_count": null,
   "id": "62a3ada1",
   "metadata": {
    "papermill": {
     "duration": 0.102704,
     "end_time": "2025-09-11T06:43:30.075450",
     "exception": false,
     "start_time": "2025-09-11T06:43:29.972746",
     "status": "completed"
    },
    "tags": []
   },
   "outputs": [],
   "source": []
  }
 ],
 "metadata": {
  "kaggle": {
   "accelerator": "gpu",
   "dataSources": [
    {
     "datasetId": 2035877,
     "sourceId": 3376422,
     "sourceType": "datasetVersion"
    }
   ],
   "dockerImageVersionId": 31090,
   "isGpuEnabled": true,
   "isInternetEnabled": false,
   "language": "python",
   "sourceType": "notebook"
  },
  "kernelspec": {
   "display_name": "Python 3",
   "language": "python",
   "name": "python3"
  },
  "language_info": {
   "codemirror_mode": {
    "name": "ipython",
    "version": 3
   },
   "file_extension": ".py",
   "mimetype": "text/x-python",
   "name": "python",
   "nbconvert_exporter": "python",
   "pygments_lexer": "ipython3",
   "version": "3.11.13"
  },
  "papermill": {
   "default_parameters": {},
   "duration": 671.445647,
   "end_time": "2025-09-11T06:43:32.513632",
   "environment_variables": {},
   "exception": null,
   "input_path": "__notebook__.ipynb",
   "output_path": "__notebook__.ipynb",
   "parameters": {},
   "start_time": "2025-09-11T06:32:21.067985",
   "version": "2.6.0"
  }
 },
 "nbformat": 4,
 "nbformat_minor": 5
}
