{
 "cells": [
  {
   "cell_type": "code",
   "execution_count": 1,
   "id": "da8ab093",
   "metadata": {
    "execution": {
     "iopub.execute_input": "2025-10-20T05:26:34.354984Z",
     "iopub.status.busy": "2025-10-20T05:26:34.354738Z",
     "iopub.status.idle": "2025-10-20T05:26:46.404683Z",
     "shell.execute_reply": "2025-10-20T05:26:46.403757Z"
    },
    "papermill": {
     "duration": 12.054647,
     "end_time": "2025-10-20T05:26:46.405999",
     "exception": false,
     "start_time": "2025-10-20T05:26:34.351352",
     "status": "completed"
    },
    "tags": []
   },
   "outputs": [
    {
     "name": "stdout",
     "output_type": "stream",
     "text": [
      "Using device: cuda\n"
     ]
    }
   ],
   "source": [
    "# 1. Imports\n",
    "# ============================\n",
    "import torch\n",
    "import torch.nn as nn\n",
    "import torch.optim as optim\n",
    "from torch.utils.data import DataLoader, random_split\n",
    "import torchvision.transforms as transforms\n",
    "import torchvision.datasets as datasets\n",
    "import torchvision.models as models\n",
    "import matplotlib.pyplot as plt\n",
    "import numpy as np\n",
    "from sklearn.metrics import confusion_matrix, classification_report\n",
    "import seaborn as sns\n",
    "from tqdm import tqdm\n",
    "\n",
    "# ============================\n",
    "# 2. Device Config\n",
    "# ============================\n",
    "device = torch.device(\"cuda\" if torch.cuda.is_available() else \"cpu\")\n",
    "print(\"Using device:\", device)"
   ]
  },
  {
   "cell_type": "code",
   "execution_count": 2,
   "id": "e86be926",
   "metadata": {
    "execution": {
     "iopub.execute_input": "2025-10-20T05:26:46.411721Z",
     "iopub.status.busy": "2025-10-20T05:26:46.411071Z",
     "iopub.status.idle": "2025-10-20T05:26:52.094843Z",
     "shell.execute_reply": "2025-10-20T05:26:52.093985Z"
    },
    "papermill": {
     "duration": 5.687751,
     "end_time": "2025-10-20T05:26:52.096229",
     "exception": false,
     "start_time": "2025-10-20T05:26:46.408478",
     "status": "completed"
    },
    "tags": []
   },
   "outputs": [
    {
     "name": "stdout",
     "output_type": "stream",
     "text": [
      "Classes: ['Anthracnose', 'Bacterial Wilt', 'Belly Rot', 'Downy Mildew', 'Fresh Cucumber', 'Fresh Leaf', 'Gummy Stem Blight', 'Pythium Fruit Rot']\n",
      "Train: 5120, Val: 640, Test: 640\n"
     ]
    }
   ],
   "source": [
    "# 3. Dataset & Dataloaders\n",
    "# ============================\n",
    "data_dir = \"/kaggle/input/cucumber-disease-augmented-dataset/Augmented Image\"\n",
    "\n",
    "# Transforms\n",
    "transform = transforms.Compose([\n",
    "    transforms.Resize((224,224)),\n",
    "    transforms.ToTensor(),\n",
    "    transforms.Normalize([0.485, 0.456, 0.406],\n",
    "                         [0.229, 0.224, 0.225])\n",
    "])\n",
    "\n",
    "# Load dataset\n",
    "dataset = datasets.ImageFolder(root=data_dir, transform=transform)\n",
    "class_names = dataset.classes\n",
    "num_classes = len(class_names)\n",
    "print(\"Classes:\", class_names)\n",
    "\n",
    "# Split (80% train, 10% val, 10% test)\n",
    "train_size = int(0.8 * len(dataset))\n",
    "val_size   = int(0.1 * len(dataset))\n",
    "test_size  = len(dataset) - train_size - val_size  # remaining goes to test\n",
    "\n",
    "train_dataset, val_dataset, test_dataset = random_split(\n",
    "    dataset,\n",
    "    [train_size, val_size, test_size],\n",
    "    generator=torch.Generator().manual_seed(42)  # reproducibility\n",
    ")\n",
    "\n",
    "# Dataloaders\n",
    "batch_size = 32\n",
    "train_loader = DataLoader(train_dataset, batch_size=batch_size, shuffle=True, num_workers=2)\n",
    "val_loader   = DataLoader(val_dataset, batch_size=batch_size, shuffle=False, num_workers=2)\n",
    "test_loader  = DataLoader(test_dataset, batch_size=batch_size, shuffle=False, num_workers=2)\n",
    "\n",
    "print(f\"Train: {len(train_dataset)}, Val: {len(val_dataset)}, Test: {len(test_dataset)}\")"
   ]
  },
  {
   "cell_type": "code",
   "execution_count": 3,
   "id": "7e5bad93",
   "metadata": {
    "execution": {
     "iopub.execute_input": "2025-10-20T05:26:52.101475Z",
     "iopub.status.busy": "2025-10-20T05:26:52.101257Z",
     "iopub.status.idle": "2025-10-20T05:27:06.060747Z",
     "shell.execute_reply": "2025-10-20T05:27:06.060120Z"
    },
    "papermill": {
     "duration": 13.963748,
     "end_time": "2025-10-20T05:27:06.062165",
     "exception": false,
     "start_time": "2025-10-20T05:26:52.098417",
     "status": "completed"
    },
    "tags": []
   },
   "outputs": [
    {
     "name": "stderr",
     "output_type": "stream",
     "text": [
      "/usr/local/lib/python3.11/dist-packages/pydantic/_internal/_generate_schema.py:2225: UnsupportedFieldAttributeWarning: The 'repr' attribute with value False was provided to the `Field()` function, which has no effect in the context it was used. 'repr' is field-specific metadata, and can only be attached to a model field using `Annotated` metadata or by assignment. This may have happened because an `Annotated` type alias using the `type` statement was used, or if the `Field()` function was attached to a single member of a union type.\n",
      "  warnings.warn(\n",
      "/usr/local/lib/python3.11/dist-packages/pydantic/_internal/_generate_schema.py:2225: UnsupportedFieldAttributeWarning: The 'frozen' attribute with value True was provided to the `Field()` function, which has no effect in the context it was used. 'frozen' is field-specific metadata, and can only be attached to a model field using `Annotated` metadata or by assignment. This may have happened because an `Annotated` type alias using the `type` statement was used, or if the `Field()` function was attached to a single member of a union type.\n",
      "  warnings.warn(\n",
      "Downloading: \"https://download.pytorch.org/models/densenet169-b2777c0a.pth\" to /root/.cache/torch/hub/checkpoints/densenet169-b2777c0a.pth\n",
      "100%|██████████| 54.7M/54.7M [00:00<00:00, 207MB/s]\n"
     ]
    },
    {
     "data": {
      "application/vnd.jupyter.widget-view+json": {
       "model_id": "6cf01cdd1ea94f18b0fd2b46f9649340",
       "version_major": 2,
       "version_minor": 0
      },
      "text/plain": [
       "model.safetensors:   0%|          | 0.00/171M [00:00<?, ?B/s]"
      ]
     },
     "metadata": {},
     "output_type": "display_data"
    }
   ],
   "source": [
    "# ============================\n",
    "# 4. Model, Loss, Optimizer (Updated for Ensemble)\n",
    "# ============================\n",
    "import timm  # for InceptionV4\n",
    "\n",
    "class EnsembleModel(nn.Module):\n",
    "    def __init__(self, num_classes):\n",
    "        super(EnsembleModel, self).__init__()\n",
    "        # DenseNet169\n",
    "        self.densenet = models.densenet169(weights=\"IMAGENET1K_V1\")\n",
    "        in_features_densenet = self.densenet.classifier.in_features\n",
    "        self.densenet.classifier = nn.Linear(in_features_densenet, num_classes)\n",
    "\n",
    "        # InceptionV4 (from timm)\n",
    "        self.inception = timm.create_model(\"inception_v4\", pretrained=True)\n",
    "        in_features_incep = self.inception.get_classifier().in_features\n",
    "        self.inception.reset_classifier(num_classes)\n",
    "\n",
    "        # Final fusion layer (concatenate + FC)\n",
    "        self.fc = nn.Linear(num_classes * 2, num_classes)\n",
    "\n",
    "    def forward(self, x):\n",
    "        out1 = self.densenet(x)\n",
    "        out2 = self.inception(x)\n",
    "        combined = torch.cat((out1, out2), dim=1)  # concatenate predictions\n",
    "        return self.fc(combined)\n",
    "\n",
    "# Initialize ensemble model\n",
    "model = EnsembleModel(num_classes=num_classes).to(device)\n",
    "\n",
    "# Loss and optimizer\n",
    "criterion = nn.CrossEntropyLoss()\n",
    "optimizer = optim.Adam(model.parameters(), lr=1e-4)\n",
    "\n",
    "\n",
    "# ============================\n",
    "\n"
   ]
  },
  {
   "cell_type": "code",
   "execution_count": 4,
   "id": "6547d9a8",
   "metadata": {
    "execution": {
     "iopub.execute_input": "2025-10-20T05:27:06.068127Z",
     "iopub.status.busy": "2025-10-20T05:27:06.067868Z",
     "iopub.status.idle": "2025-10-20T05:48:59.365041Z",
     "shell.execute_reply": "2025-10-20T05:48:59.364210Z"
    },
    "papermill": {
     "duration": 1313.301498,
     "end_time": "2025-10-20T05:48:59.366396",
     "exception": false,
     "start_time": "2025-10-20T05:27:06.064898",
     "status": "completed"
    },
    "tags": []
   },
   "outputs": [
    {
     "name": "stdout",
     "output_type": "stream",
     "text": [
      "\n",
      "Epoch 1/10\n"
     ]
    },
    {
     "name": "stderr",
     "output_type": "stream",
     "text": [
      "                                                                      \r"
     ]
    },
    {
     "name": "stdout",
     "output_type": "stream",
     "text": [
      "Epoch 1/10 - Train Loss: 0.3939, Train Acc: 0.8975, Val Loss: 0.0769, Val Acc: 0.9750\n",
      "\n",
      "Epoch 2/10\n"
     ]
    },
    {
     "name": "stderr",
     "output_type": "stream",
     "text": [
      "                                                                      \r"
     ]
    },
    {
     "name": "stdout",
     "output_type": "stream",
     "text": [
      "Epoch 2/10 - Train Loss: 0.0646, Train Acc: 0.9836, Val Loss: 0.0318, Val Acc: 0.9906\n",
      "\n",
      "Epoch 3/10\n"
     ]
    },
    {
     "name": "stderr",
     "output_type": "stream",
     "text": [
      "                                                                      \r"
     ]
    },
    {
     "name": "stdout",
     "output_type": "stream",
     "text": [
      "Epoch 3/10 - Train Loss: 0.0362, Train Acc: 0.9920, Val Loss: 0.0234, Val Acc: 0.9938\n",
      "\n",
      "Epoch 4/10\n"
     ]
    },
    {
     "name": "stderr",
     "output_type": "stream",
     "text": [
      "                                                                       \r"
     ]
    },
    {
     "name": "stdout",
     "output_type": "stream",
     "text": [
      "Epoch 4/10 - Train Loss: 0.0159, Train Acc: 0.9975, Val Loss: 0.0188, Val Acc: 0.9969\n",
      "\n",
      "Epoch 5/10\n"
     ]
    },
    {
     "name": "stderr",
     "output_type": "stream",
     "text": [
      "                                                                      \r"
     ]
    },
    {
     "name": "stdout",
     "output_type": "stream",
     "text": [
      "Epoch 5/10 - Train Loss: 0.0095, Train Acc: 0.9980, Val Loss: 0.0222, Val Acc: 0.9938\n",
      "\n",
      "Epoch 6/10\n"
     ]
    },
    {
     "name": "stderr",
     "output_type": "stream",
     "text": [
      "                                                                     \r"
     ]
    },
    {
     "name": "stdout",
     "output_type": "stream",
     "text": [
      "Epoch 6/10 - Train Loss: 0.0055, Train Acc: 0.9990, Val Loss: 0.0248, Val Acc: 0.9875\n",
      "\n",
      "Epoch 7/10\n"
     ]
    },
    {
     "name": "stderr",
     "output_type": "stream",
     "text": [
      "                                                                       \r"
     ]
    },
    {
     "name": "stdout",
     "output_type": "stream",
     "text": [
      "Epoch 7/10 - Train Loss: 0.0119, Train Acc: 0.9980, Val Loss: 0.0181, Val Acc: 0.9938\n",
      "\n",
      "Epoch 8/10\n"
     ]
    },
    {
     "name": "stderr",
     "output_type": "stream",
     "text": [
      "                                                                      \r"
     ]
    },
    {
     "name": "stdout",
     "output_type": "stream",
     "text": [
      "Epoch 8/10 - Train Loss: 0.0247, Train Acc: 0.9922, Val Loss: 0.0278, Val Acc: 0.9906\n",
      "\n",
      "Epoch 9/10\n"
     ]
    },
    {
     "name": "stderr",
     "output_type": "stream",
     "text": [
      "                                                                      \r"
     ]
    },
    {
     "name": "stdout",
     "output_type": "stream",
     "text": [
      "Epoch 9/10 - Train Loss: 0.0180, Train Acc: 0.9951, Val Loss: 0.0461, Val Acc: 0.9859\n",
      "\n",
      "Epoch 10/10\n"
     ]
    },
    {
     "name": "stderr",
     "output_type": "stream",
     "text": [
      "                                                                        "
     ]
    },
    {
     "name": "stdout",
     "output_type": "stream",
     "text": [
      "Epoch 10/10 - Train Loss: 0.0242, Train Acc: 0.9928, Val Loss: 0.0125, Val Acc: 0.9969\n"
     ]
    },
    {
     "name": "stderr",
     "output_type": "stream",
     "text": [
      "\r"
     ]
    }
   ],
   "source": [
    "# 5. Training Function\n",
    "# ============================\n",
    "def train_model(model, criterion, optimizer, train_loader, val_loader, epochs, device):\n",
    "    history = {\"train_loss\": [], \"val_loss\": [], \"train_acc\": [], \"val_acc\": []}\n",
    "\n",
    "    for epoch in range(epochs):\n",
    "        print(f\"\\nEpoch {epoch+1}/{epochs}\")\n",
    "\n",
    "        # -----------------------------\n",
    "        # Training phase\n",
    "        # -----------------------------\n",
    "        model.train()\n",
    "        running_loss, correct, total = 0.0, 0, 0\n",
    "        loop = tqdm(train_loader, desc=f\"Train {epoch+1}/{epochs}\", leave=False)\n",
    "\n",
    "        for images, labels in loop:\n",
    "            images, labels = images.to(device), labels.to(device)\n",
    "\n",
    "            optimizer.zero_grad()\n",
    "            outputs = model(images)\n",
    "            loss = criterion(outputs, labels)\n",
    "\n",
    "            loss.backward()\n",
    "            optimizer.step()\n",
    "\n",
    "            running_loss += loss.item() * images.size(0)\n",
    "            preds = outputs.argmax(1)\n",
    "            correct += (preds == labels).sum().item()\n",
    "            total += labels.size(0)\n",
    "\n",
    "            loop.set_postfix(loss=loss.item())\n",
    "\n",
    "        train_loss = running_loss / total\n",
    "        train_acc  = correct / total\n",
    "\n",
    "        # -----------------------------\n",
    "        # Validation phase\n",
    "        # -----------------------------\n",
    "        model.eval()\n",
    "        val_loss, val_correct, val_total = 0.0, 0, 0\n",
    "        loop_val = tqdm(val_loader, desc=f\"Val {epoch+1}/{epochs}\", leave=False)\n",
    "\n",
    "        with torch.no_grad():\n",
    "            for images, labels in loop_val:\n",
    "                images, labels = images.to(device), labels.to(device)\n",
    "                outputs = model(images)\n",
    "                loss = criterion(outputs, labels)\n",
    "\n",
    "                val_loss += loss.item() * images.size(0)\n",
    "                preds = outputs.argmax(1)\n",
    "                val_correct += (preds == labels).sum().item()\n",
    "                val_total += labels.size(0)\n",
    "\n",
    "                loop_val.set_postfix(loss=loss.item())\n",
    "\n",
    "        val_loss /= val_total\n",
    "        val_acc = val_correct / val_total\n",
    "\n",
    "        # Save history\n",
    "        history[\"train_loss\"].append(train_loss)\n",
    "        history[\"val_loss\"].append(val_loss)\n",
    "        history[\"train_acc\"].append(train_acc)\n",
    "        history[\"val_acc\"].append(val_acc)\n",
    "\n",
    "        print(f\"Epoch {epoch+1}/{epochs} - \"\n",
    "              f\"Train Loss: {train_loss:.4f}, Train Acc: {train_acc:.4f}, \"\n",
    "              f\"Val Loss: {val_loss:.4f}, Val Acc: {val_acc:.4f}\")\n",
    "\n",
    "    return history\n",
    "\n",
    "\n",
    "# ============================\n",
    "# 6. Training Loop (No Cross Validation)\n",
    "# ============================\n",
    "num_epochs = 10\n",
    "history = train_model(model, criterion, optimizer, train_loader, val_loader, num_epochs, device)\n",
    "\n",
    "\n"
   ]
  },
  {
   "cell_type": "code",
   "execution_count": 5,
   "id": "c457d71a",
   "metadata": {
    "execution": {
     "iopub.execute_input": "2025-10-20T05:48:59.648339Z",
     "iopub.status.busy": "2025-10-20T05:48:59.648011Z",
     "iopub.status.idle": "2025-10-20T05:49:14.822539Z",
     "shell.execute_reply": "2025-10-20T05:49:14.821694Z"
    },
    "papermill": {
     "duration": 15.31559,
     "end_time": "2025-10-20T05:49:14.823890",
     "exception": false,
     "start_time": "2025-10-20T05:48:59.508300",
     "status": "completed"
    },
    "tags": []
   },
   "outputs": [],
   "source": [
    "# ============================\n",
    "# 7. Evaluation Function\n",
    "# ============================\n",
    "from sklearn.metrics import confusion_matrix, accuracy_score, precision_score, recall_score, f1_score\n",
    "\n",
    "def evaluate_model(model, test_loader, class_names, device):\n",
    "    model.eval()\n",
    "    y_true, y_pred = [], []\n",
    "\n",
    "    with torch.no_grad():\n",
    "        for images, labels in test_loader:\n",
    "            images, labels = images.to(device), labels.to(device)\n",
    "            outputs = model(images)\n",
    "            preds = outputs.argmax(1)\n",
    "            y_true.extend(labels.cpu().numpy())\n",
    "            y_pred.extend(preds.cpu().numpy())\n",
    "\n",
    "    # Confusion matrix\n",
    "    cm = confusion_matrix(y_true, y_pred)\n",
    "\n",
    "    # Metrics\n",
    "    acc = accuracy_score(y_true, y_pred)\n",
    "    prec = precision_score(y_true, y_pred, average='macro', zero_division=0)\n",
    "    rec = recall_score(y_true, y_pred, average='macro', zero_division=0)\n",
    "    f1 = f1_score(y_true, y_pred, average='macro', zero_division=0)\n",
    "\n",
    "    return acc, prec, rec, f1, y_true, y_pred, cm\n",
    "\n",
    "\n",
    "# ============================\n",
    "# 8. Final Model Evaluation\n",
    "# ============================\n",
    "final_acc, final_prec, final_rec, final_f1, y_true, y_pred, cm = evaluate_model(\n",
    "    model, test_loader, class_names, device\n",
    ")"
   ]
  },
  {
   "cell_type": "code",
   "execution_count": 6,
   "id": "c220514f",
   "metadata": {
    "execution": {
     "iopub.execute_input": "2025-10-20T05:49:15.188191Z",
     "iopub.status.busy": "2025-10-20T05:49:15.187381Z",
     "iopub.status.idle": "2025-10-20T05:49:15.523654Z",
     "shell.execute_reply": "2025-10-20T05:49:15.522948Z"
    },
    "papermill": {
     "duration": 0.478482,
     "end_time": "2025-10-20T05:49:15.525047",
     "exception": false,
     "start_time": "2025-10-20T05:49:15.046565",
     "status": "completed"
    },
    "tags": []
   },
   "outputs": [
    {
     "data": {
      "image/png": "[encoded data removed]",
      "text/plain": [
       "<Figure size 1200x500 with 2 Axes>"
      ]
     },
     "metadata": {},
     "output_type": "display_data"
    }
   ],
   "source": [
    "plt.figure(figsize=(12,5))\n",
    "\n",
    "plt.subplot(1,2,1)\n",
    "plt.plot(history[\"train_loss\"], label=\"Train Loss\")\n",
    "plt.plot(history[\"val_loss\"], label=\"Val Loss\")\n",
    "plt.xlabel(\"Epochs\"); plt.ylabel(\"Loss\"); plt.legend(); plt.title(\"Loss Curve\")\n",
    "\n",
    "plt.subplot(1,2,2)\n",
    "plt.plot(history[\"train_acc\"], label=\"Train Acc\")\n",
    "plt.plot(history[\"val_acc\"], label=\"Val Acc\")\n",
    "plt.xlabel(\"Epochs\"); plt.ylabel(\"Accuracy\"); plt.legend(); plt.title(\"Accuracy Curve\")\n",
    "\n",
    "plt.show()"
   ]
  },
  {
   "cell_type": "code",
   "execution_count": 7,
   "id": "61b0a01a",
   "metadata": {
    "execution": {
     "iopub.execute_input": "2025-10-20T05:49:15.811174Z",
     "iopub.status.busy": "2025-10-20T05:49:15.810864Z",
     "iopub.status.idle": "2025-10-20T05:49:15.822334Z",
     "shell.execute_reply": "2025-10-20T05:49:15.821412Z"
    },
    "papermill": {
     "duration": 0.154711,
     "end_time": "2025-10-20T05:49:15.823383",
     "exception": false,
     "start_time": "2025-10-20T05:49:15.668672",
     "status": "completed"
    },
    "tags": []
   },
   "outputs": [
    {
     "name": "stdout",
     "output_type": "stream",
     "text": [
      "\n",
      "==================================================\n",
      "DETAILED CLASSIFICATION REPORT\n",
      "==================================================\n",
      "                   precision    recall  f1-score   support\n",
      "\n",
      "      Anthracnose     0.9855    0.9444    0.9645        72\n",
      "   Bacterial Wilt     1.0000    1.0000    1.0000        87\n",
      "        Belly Rot     1.0000    1.0000    1.0000        79\n",
      "     Downy Mildew     0.9770    1.0000    0.9884        85\n",
      "   Fresh Cucumber     1.0000    1.0000    1.0000        68\n",
      "       Fresh Leaf     1.0000    1.0000    1.0000        98\n",
      "Gummy Stem Blight     0.9706    0.9851    0.9778        67\n",
      "Pythium Fruit Rot     1.0000    1.0000    1.0000        84\n",
      "\n",
      "         accuracy                         0.9922       640\n",
      "        macro avg     0.9916    0.9912    0.9913       640\n",
      "     weighted avg     0.9922    0.9922    0.9921       640\n",
      "\n"
     ]
    }
   ],
   "source": [
    "# Classification Report\n",
    "print(\"\\n\" + \"=\"*50)\n",
    "print(\"DETAILED CLASSIFICATION REPORT\")\n",
    "print(\"=\"*50)\n",
    "print(classification_report(y_true, y_pred, target_names=class_names, digits=4))"
   ]
  },
  {
   "cell_type": "code",
   "execution_count": null,
   "id": "d73809e6",
   "metadata": {
    "papermill": {
     "duration": 0.142036,
     "end_time": "2025-10-20T05:49:16.104646",
     "exception": false,
     "start_time": "2025-10-20T05:49:15.962610",
     "status": "completed"
    },
    "tags": []
   },
   "outputs": [],
   "source": []
  }
 ],
 "metadata": {
  "kaggle": {
   "accelerator": "gpu",
   "dataSources": [
    {
     "datasetId": 8352476,
     "sourceId": 13180310,
     "sourceType": "datasetVersion"
    }
   ],
   "dockerImageVersionId": 31154,
   "isGpuEnabled": true,
   "isInternetEnabled": true,
   "language": "python",
   "sourceType": "notebook"
  },
  "kernelspec": {
   "display_name": "Python 3",
   "language": "python",
   "name": "python3"
  },
  "language_info": {
   "codemirror_mode": {
    "name": "ipython",
    "version": 3
   },
   "file_extension": ".py",
   "mimetype": "text/x-python",
   "name": "python",
   "nbconvert_exporter": "python",
   "pygments_lexer": "ipython3",
   "version": "3.11.13"
  },
  "papermill": {
   "default_parameters": {},
   "duration": 1367.87716,
   "end_time": "2025-10-20T05:49:18.668640",
   "environment_variables": {},
   "exception": null,
   "input_path": "__notebook__.ipynb",
   "output_path": "__notebook__.ipynb",
   "parameters": {},
   "start_time": "2025-10-20T05:26:30.791480",
   "version": "2.6.0"
  },
  "widgets": {
   "application/vnd.jupyter.widget-state+json": {
    "state": {
     "3a77d417462b4e1baed378bbbb9017df": {
      "model_module": "@jupyter-widgets/base",
      "model_module_version": "2.0.0",
      "model_name": "LayoutModel",
      "state": {
       "_model_module": "@jupyter-widgets/base",
       "_model_module_version": "2.0.0",
       "_model_name": "LayoutModel",
       "_view_count": null,
       "_view_module": "@jupyter-widgets/base",
       "_view_module_version": "2.0.0",
       "_view_name": "LayoutView",
       "align_content": null,
       "align_items": null,
       "align_self": null,
       "border_bottom": null,
       "border_left": null,
       "border_right": null,
       "border_top": null,
       "bottom": null,
       "display": null,
       "flex": null,
       "flex_flow": null,
       "grid_area": null,
       "grid_auto_columns": null,
       "grid_auto_flow": null,
       "grid_auto_rows": null,
       "grid_column": null,
       "grid_gap": null,
       "grid_row": null,
       "grid_template_areas": null,
       "grid_template_columns": null,
       "grid_template_rows": null,
       "height": null,
       "justify_content": null,
       "justify_items": null,
       "left": null,
       "margin": null,
       "max_height": null,
       "max_width": null,
       "min_height": null,
       "min_width": null,
       "object_fit": null,
       "object_position": null,
       "order": null,
       "overflow": null,
       "padding": null,
       "right": null,
       "top": null,
       "visibility": null,
       "width": null
      }
     },
     "5ff1ba2b5e844529a2313513a19639a9": {
      "model_module": "@jupyter-widgets/controls",
      "model_module_version": "2.0.0",
      "model_name": "HTMLStyleModel",
      "state": {
       "_model_module": "@jupyter-widgets/controls",
       "_model_module_version": "2.0.0",
       "_model_name": "HTMLStyleModel",
       "_view_count": null,
       "_view_module": "@jupyter-widgets/base",
       "_view_module_version": "2.0.0",
       "_view_name": "StyleView",
       "background": null,
       "description_width": "",
       "font_size": null,
       "text_color": null
      }
     },
     "6cf01cdd1ea94f18b0fd2b46f9649340": {
      "model_module": "@jupyter-widgets/controls",
      "model_module_version": "2.0.0",
      "model_name": "HBoxModel",
      "state": {
       "_dom_classes": [],
       "_model_module": "@jupyter-widgets/controls",
       "_model_module_version": "2.0.0",
       "_model_name": "HBoxModel",
       "_view_count": null,
       "_view_module": "@jupyter-widgets/controls",
       "_view_module_version": "2.0.0",
       "_view_name": "HBoxView",
       "box_style": "",
       "children": [
        "IPY_MODEL_a50a47439d1b4dc18942ea819e1db113",
        "IPY_MODEL_82ea34864bca44b39d00d687046e85b8",
        "IPY_MODEL_ceba594b102b4b689da852fe1da4dd32"
       ],
       "layout": "IPY_MODEL_3a77d417462b4e1baed378bbbb9017df",
       "tabbable": null,
       "tooltip": null
      }
     },
     "7126e71b41894642a6a2802da72716a7": {
      "model_module": "@jupyter-widgets/base",
      "model_module_version": "2.0.0",
      "model_name": "LayoutModel",
      "state": {
       "_model_module": "@jupyter-widgets/base",
       "_model_module_version": "2.0.0",
       "_model_name": "LayoutModel",
       "_view_count": null,
       "_view_module": "@jupyter-widgets/base",
       "_view_module_version": "2.0.0",
       "_view_name": "LayoutView",
       "align_content": null,
       "align_items": null,
       "align_self": null,
       "border_bottom": null,
       "border_left": null,
       "border_right": null,
       "border_top": null,
       "bottom": null,
       "display": null,
       "flex": null,
       "flex_flow": null,
       "grid_area": null,
       "grid_auto_columns": null,
       "grid_auto_flow": null,
       "grid_auto_rows": null,
       "grid_column": null,
       "grid_gap": null,
       "grid_row": null,
       "grid_template_areas": null,
       "grid_template_columns": null,
       "grid_template_rows": null,
       "height": null,
       "justify_content": null,
       "justify_items": null,
       "left": null,
       "margin": null,
       "max_height": null,
       "max_width": null,
       "min_height": null,
       "min_width": null,
       "object_fit": null,
       "object_position": null,
       "order": null,
       "overflow": null,
       "padding": null,
       "right": null,
       "top": null,
       "visibility": null,
       "width": null
      }
     },
     "7cf645f646ae4e648a4ed2c6e42bf5a3": {
      "model_module": "@jupyter-widgets/controls",
      "model_module_version": "2.0.0",
      "model_name": "ProgressStyleModel",
      "state": {
       "_model_module": "@jupyter-widgets/controls",
       "_model_module_version": "2.0.0",
       "_model_name": "ProgressStyleModel",
       "_view_count": null,
       "_view_module": "@jupyter-widgets/base",
       "_view_module_version": "2.0.0",
       "_view_name": "StyleView",
       "bar_color": null,
       "description_width": ""
      }
     },
     "82ea34864bca44b39d00d687046e85b8": {
      "model_module": "@jupyter-widgets/controls",
      "model_module_version": "2.0.0",
      "model_name": "FloatProgressModel",
      "state": {
       "_dom_classes": [],
       "_model_module": "@jupyter-widgets/controls",
       "_model_module_version": "2.0.0",
       "_model_name": "FloatProgressModel",
       "_view_count": null,
       "_view_module": "@jupyter-widgets/controls",
       "_view_module_version": "2.0.0",
       "_view_name": "ProgressView",
       "bar_style": "success",
       "description": "",
       "description_allow_html": false,
       "layout": "IPY_MODEL_f7f11f75822a4689bd071e0f23d58a5a",
       "max": 171064452.0,
       "min": 0.0,
       "orientation": "horizontal",
       "style": "IPY_MODEL_7cf645f646ae4e648a4ed2c6e42bf5a3",
       "tabbable": null,
       "tooltip": null,
       "value": 171064452.0
      }
     },
     "85cd9ad7d8514d8193f99ed6165f8b4f": {
      "model_module": "@jupyter-widgets/base",
      "model_module_version": "2.0.0",
      "model_name": "LayoutModel",
      "state": {
       "_model_module": "@jupyter-widgets/base",
       "_model_module_version": "2.0.0",
       "_model_name": "LayoutModel",
       "_view_count": null,
       "_view_module": "@jupyter-widgets/base",
       "_view_module_version": "2.0.0",
       "_view_name": "LayoutView",
       "align_content": null,
       "align_items": null,
       "align_self": null,
       "border_bottom": null,
       "border_left": null,
       "border_right": null,
       "border_top": null,
       "bottom": null,
       "display": null,
       "flex": null,
       "flex_flow": null,
       "grid_area": null,
       "grid_auto_columns": null,
       "grid_auto_flow": null,
       "grid_auto_rows": null,
       "grid_column": null,
       "grid_gap": null,
       "grid_row": null,
       "grid_template_areas": null,
       "grid_template_columns": null,
       "grid_template_rows": null,
       "height": null,
       "justify_content": null,
       "justify_items": null,
       "left": null,
       "margin": null,
       "max_height": null,
       "max_width": null,
       "min_height": null,
       "min_width": null,
       "object_fit": null,
       "object_position": null,
       "order": null,
       "overflow": null,
       "padding": null,
       "right": null,
       "top": null,
       "visibility": null,
       "width": null
      }
     },
     "97b2d8852b9d40908a67e79929a0b73c": {
      "model_module": "@jupyter-widgets/controls",
      "model_module_version": "2.0.0",
      "model_name": "HTMLStyleModel",
      "state": {
       "_model_module": "@jupyter-widgets/controls",
       "_model_module_version": "2.0.0",
       "_model_name": "HTMLStyleModel",
       "_view_count": null,
       "_view_module": "@jupyter-widgets/base",
       "_view_module_version": "2.0.0",
       "_view_name": "StyleView",
       "background": null,
       "description_width": "",
       "font_size": null,
       "text_color": null
      }
     },
     "a50a47439d1b4dc18942ea819e1db113": {
      "model_module": "@jupyter-widgets/controls",
      "model_module_version": "2.0.0",
      "model_name": "HTMLModel",
      "state": {
       "_dom_classes": [],
       "_model_module": "@jupyter-widgets/controls",
       "_model_module_version": "2.0.0",
       "_model_name": "HTMLModel",
       "_view_count": null,
       "_view_module": "@jupyter-widgets/controls",
       "_view_module_version": "2.0.0",
       "_view_name": "HTMLView",
       "description": "",
       "description_allow_html": false,
       "layout": "IPY_MODEL_7126e71b41894642a6a2802da72716a7",
       "placeholder": "​",
       "style": "IPY_MODEL_5ff1ba2b5e844529a2313513a19639a9",
       "tabbable": null,
       "tooltip": null,
       "value": "model.safetensors: 100%"
      }
     },
     "ceba594b102b4b689da852fe1da4dd32": {
      "model_module": "@jupyter-widgets/controls",
      "model_module_version": "2.0.0",
      "model_name": "HTMLModel",
      "state": {
       "_dom_classes": [],
       "_model_module": "@jupyter-widgets/controls",
       "_model_module_version": "2.0.0",
       "_model_name": "HTMLModel",
       "_view_count": null,
       "_view_module": "@jupyter-widgets/controls",
       "_view_module_version": "2.0.0",
       "_view_name": "HTMLView",
       "description": "",
       "description_allow_html": false,
       "layout": "IPY_MODEL_85cd9ad7d8514d8193f99ed6165f8b4f",
       "placeholder": "​",
       "style": "IPY_MODEL_97b2d8852b9d40908a67e79929a0b73c",
       "tabbable": null,
       "tooltip": null,
       "value": " 171M/171M [00:07&lt;00:00, 60.0MB/s]"
      }
     },
     "f7f11f75822a4689bd071e0f23d58a5a": {
      "model_module": "@jupyter-widgets/base",
      "model_module_version": "2.0.0",
      "model_name": "LayoutModel",
      "state": {
       "_model_module": "@jupyter-widgets/base",
       "_model_module_version": "2.0.0",
       "_model_name": "LayoutModel",
       "_view_count": null,
       "_view_module": "@jupyter-widgets/base",
       "_view_module_version": "2.0.0",
       "_view_name": "LayoutView",
       "align_content": null,
       "align_items": null,
       "align_self": null,
       "border_bottom": null,
       "border_left": null,
       "border_right": null,
       "border_top": null,
       "bottom": null,
       "display": null,
       "flex": null,
       "flex_flow": null,
       "grid_area": null,
       "grid_auto_columns": null,
       "grid_auto_flow": null,
       "grid_auto_rows": null,
       "grid_column": null,
       "grid_gap": null,
       "grid_row": null,
       "grid_template_areas": null,
       "grid_template_columns": null,
       "grid_template_rows": null,
       "height": null,
       "justify_content": null,
       "justify_items": null,
       "left": null,
       "margin": null,
       "max_height": null,
       "max_width": null,
       "min_height": null,
       "min_width": null,
       "object_fit": null,
       "object_position": null,
       "order": null,
       "overflow": null,
       "padding": null,
       "right": null,
       "top": null,
       "visibility": null,
       "width": null
      }
     }
    },
    "version_major": 2,
    "version_minor": 0
   }
  }
 },
 "nbformat": 4,
 "nbformat_minor": 5
}
