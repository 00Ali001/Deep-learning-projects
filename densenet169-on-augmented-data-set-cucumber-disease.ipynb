{
 "cells": [
  {
   "cell_type": "code",
   "execution_count": 1,
   "id": "06ccb718",
   "metadata": {
    "_cell_guid": "b1076dfc-b9ad-4769-8c92-a6c4dae69d19",
    "_uuid": "8f2839f25d086af736a60e9eeb907d3b93b6e0e5",
    "execution": {
     "iopub.execute_input": "2025-09-26T06:29:22.814802Z",
     "iopub.status.busy": "2025-09-26T06:29:22.814373Z",
     "iopub.status.idle": "2025-09-26T06:35:06.685376Z",
     "shell.execute_reply": "2025-09-26T06:35:06.684648Z"
    },
    "papermill": {
     "duration": 343.877754,
     "end_time": "2025-09-26T06:35:06.688758",
     "exception": false,
     "start_time": "2025-09-26T06:29:22.811004",
     "status": "completed"
    },
    "tags": []
   },
   "outputs": [
    {
     "name": "stdout",
     "output_type": "stream",
     "text": [
      "✅ Augmentation complete. Dataset saved in: /kaggle/working/augmentation\n",
      "✅ Zipped dataset ready at: /kaggle/working/augmentation.zip\n"
     ]
    }
   ],
   "source": [
    "# ============================\n",
    "# 1. Imports\n",
    "# ============================\n",
    "import os\n",
    "import cv2\n",
    "import numpy as np\n",
    "import albumentations as A\n",
    "import shutil\n",
    "import zipfile\n",
    "\n",
    "# ============================\n",
    "# 2. Paths\n",
    "# ============================\n",
    "input_dir = \"/kaggle/input/new-dataset-cucumber-disease-8-classes/New data set\"\n",
    "output_dir = \"/kaggle/working/augmentation\"\n",
    "\n",
    "os.makedirs(output_dir, exist_ok=True)\n",
    "\n",
    "# ============================\n",
    "# 3. Define Augmentations\n",
    "# ============================\n",
    "transform = A.Compose([\n",
    "    A.HorizontalFlip(p=0.5),\n",
    "    A.VerticalFlip(p=0.5),\n",
    "    A.Affine(\n",
    "        scale=(0.75, 1.25),\n",
    "        translate_percent=(0.0, 0.15),\n",
    "        rotate=(-30, 30),\n",
    "        p=0.7\n",
    "    ),\n",
    "    A.RandomBrightnessContrast(\n",
    "        brightness_limit=0.25,\n",
    "        contrast_limit=0.25,\n",
    "        p=0.7\n",
    "    )\n",
    "])\n",
    "\n",
    "# ============================\n",
    "# 4. Process Each Class\n",
    "# ============================\n",
    "num_augmented = 3   # number of augmented versions per image\n",
    "valid_exts = (\".jpg\", \".jpeg\", \".png\", \".bmp\")\n",
    "\n",
    "for root, dirs, files in os.walk(input_dir):\n",
    "    rel_path = os.path.relpath(root, input_dir)\n",
    "    class_output_path = os.path.join(output_dir, rel_path)\n",
    "    os.makedirs(class_output_path, exist_ok=True)\n",
    "\n",
    "    for file_name in files:\n",
    "        if not file_name.lower().endswith(valid_exts):\n",
    "            continue  # skip non-images\n",
    "\n",
    "        src = os.path.join(root, file_name)\n",
    "        dst = os.path.join(class_output_path, file_name)\n",
    "\n",
    "        # Copy original image\n",
    "        shutil.copy2(src, dst)\n",
    "\n",
    "        # Load image for augmentation\n",
    "        image = cv2.imread(src)\n",
    "        if image is None:\n",
    "            continue\n",
    "        image = cv2.cvtColor(image, cv2.COLOR_BGR2RGB)\n",
    "\n",
    "        # Generate augmentations\n",
    "        for i in range(num_augmented):\n",
    "            augmented = transform(image=image)\n",
    "            aug_img = augmented[\"image\"]\n",
    "\n",
    "            aug_filename = f\"{os.path.splitext(file_name)[0]}_aug{i+1}.jpg\"\n",
    "            aug_path = os.path.join(class_output_path, aug_filename)\n",
    "            cv2.imwrite(aug_path, cv2.cvtColor(aug_img, cv2.COLOR_RGB2BGR))\n",
    "\n",
    "print(\"✅ Augmentation complete. Dataset saved in:\", output_dir)\n",
    "\n",
    "# ============================\n",
    "# 5. Zip the Augmented Dataset\n",
    "# ============================\n",
    "zip_path = \"/kaggle/working/augmentation.zip\"\n",
    "with zipfile.ZipFile(zip_path, 'w', zipfile.ZIP_DEFLATED) as zipf:\n",
    "    for root, dirs, files in os.walk(output_dir):\n",
    "        for file in files:\n",
    "            file_path = os.path.join(root, file)\n",
    "            zipf.write(file_path, os.path.relpath(file_path, output_dir))\n",
    "\n",
    "print(\"✅ Zipped dataset ready at:\", zip_path)\n"
   ]
  },
  {
   "cell_type": "code",
   "execution_count": 2,
   "id": "b82332a8",
   "metadata": {
    "execution": {
     "iopub.execute_input": "2025-09-26T06:35:06.693964Z",
     "iopub.status.busy": "2025-09-26T06:35:06.693594Z",
     "iopub.status.idle": "2025-09-26T06:35:14.773543Z",
     "shell.execute_reply": "2025-09-26T06:35:14.772645Z"
    },
    "papermill": {
     "duration": 8.083902,
     "end_time": "2025-09-26T06:35:14.774891",
     "exception": false,
     "start_time": "2025-09-26T06:35:06.690989",
     "status": "completed"
    },
    "tags": []
   },
   "outputs": [
    {
     "name": "stdout",
     "output_type": "stream",
     "text": [
      "Using device: cuda\n"
     ]
    }
   ],
   "source": [
    "# ============================\n",
    "# 1. Imports\n",
    "# ============================\n",
    "import torch\n",
    "import torch.nn as nn\n",
    "import torch.optim as optim\n",
    "from torch.utils.data import DataLoader, random_split\n",
    "import torchvision.transforms as transforms\n",
    "import torchvision.datasets as datasets\n",
    "import torchvision.models as models\n",
    "import matplotlib.pyplot as plt\n",
    "import numpy as np\n",
    "from sklearn.metrics import confusion_matrix, classification_report\n",
    "import seaborn as sns\n",
    "from tqdm import tqdm\n",
    "\n",
    "# ============================\n",
    "# 2. Device Config\n",
    "# ============================\n",
    "device = torch.device(\"cuda\" if torch.cuda.is_available() else \"cpu\")\n",
    "print(\"Using device:\", device)\n"
   ]
  },
  {
   "cell_type": "code",
   "execution_count": 3,
   "id": "40411090",
   "metadata": {
    "execution": {
     "iopub.execute_input": "2025-09-26T06:35:14.780559Z",
     "iopub.status.busy": "2025-09-26T06:35:14.779904Z",
     "iopub.status.idle": "2025-09-26T06:35:14.800250Z",
     "shell.execute_reply": "2025-09-26T06:35:14.799573Z"
    },
    "papermill": {
     "duration": 0.024187,
     "end_time": "2025-09-26T06:35:14.801344",
     "exception": false,
     "start_time": "2025-09-26T06:35:14.777157",
     "status": "completed"
    },
    "tags": []
   },
   "outputs": [
    {
     "name": "stdout",
     "output_type": "stream",
     "text": [
      "Classes: ['Anthracnose', 'Bacterial Wilt', 'Belly Rot', 'Downy Mildew', 'Fresh Cucumber', 'Fresh Leaf', 'Gummy Stem Blight', 'Pythium Fruit Rot']\n",
      "Train: 4124, Val: 515, Test: 517\n"
     ]
    }
   ],
   "source": [
    "# ============================\n",
    "# 3. Dataset & Dataloaders\n",
    "# ============================\n",
    "data_dir = \"//kaggle/working/augmentation\"\n",
    "\n",
    "# Transforms\n",
    "transform = transforms.Compose([\n",
    "    transforms.Resize((224,224)),\n",
    "    transforms.ToTensor(),\n",
    "    transforms.Normalize([0.485, 0.456, 0.406],\n",
    "                         [0.229, 0.224, 0.225])\n",
    "])\n",
    "\n",
    "# Load dataset\n",
    "dataset = datasets.ImageFolder(root=data_dir, transform=transform)\n",
    "class_names = dataset.classes\n",
    "num_classes = len(class_names)\n",
    "print(\"Classes:\", class_names)\n",
    "\n",
    "# Split (70% train, 15% val, 15% test)\n",
    "train_size = int(0.8 * len(dataset))\n",
    "val_size   = int(0.1 * len(dataset))\n",
    "test_size  = len(dataset) - train_size - val_size\n",
    "\n",
    "train_dataset, val_dataset, test_dataset = random_split(dataset, [train_size, val_size, test_size])\n",
    "\n",
    "# Dataloaders\n",
    "batch_size = 32\n",
    "train_loader = DataLoader(train_dataset, batch_size=batch_size, shuffle=True, num_workers=2)\n",
    "val_loader   = DataLoader(val_dataset, batch_size=batch_size, shuffle=False, num_workers=2)\n",
    "test_loader  = DataLoader(test_dataset, batch_size=batch_size, shuffle=False, num_workers=2)\n",
    "\n",
    "print(f\"Train: {len(train_dataset)}, Val: {len(val_dataset)}, Test: {len(test_dataset)}\")\n"
   ]
  },
  {
   "cell_type": "code",
   "execution_count": 4,
   "id": "33d2ff46",
   "metadata": {
    "execution": {
     "iopub.execute_input": "2025-09-26T06:35:14.806669Z",
     "iopub.status.busy": "2025-09-26T06:35:14.806013Z",
     "iopub.status.idle": "2025-09-26T06:35:15.697670Z",
     "shell.execute_reply": "2025-09-26T06:35:15.697054Z"
    },
    "papermill": {
     "duration": 0.895695,
     "end_time": "2025-09-26T06:35:15.699036",
     "exception": false,
     "start_time": "2025-09-26T06:35:14.803341",
     "status": "completed"
    },
    "tags": []
   },
   "outputs": [
    {
     "name": "stderr",
     "output_type": "stream",
     "text": [
      "Downloading: \"https://download.pytorch.org/models/densenet169-b2777c0a.pth\" to /root/.cache/torch/hub/checkpoints/densenet169-b2777c0a.pth\n",
      "100%|██████████| 54.7M/54.7M [00:00<00:00, 196MB/s]\n"
     ]
    }
   ],
   "source": [
    "# ============================\n",
    "# 4. Model, Loss, Optimizer (DenseNet-169)\n",
    "# ============================\n",
    "import torchvision.models as models\n",
    "\n",
    "# Load pretrained DenseNet-169\n",
    "model = models.densenet169(weights=\"IMAGENET1K_V1\")\n",
    "\n",
    "# Replace classifier (fc layer) for your dataset\n",
    "in_features = model.classifier.in_features\n",
    "model.classifier = nn.Linear(in_features, num_classes)\n",
    "\n",
    "model = model.to(device)\n",
    "\n",
    "# Loss and optimizer\n",
    "criterion = nn.CrossEntropyLoss()\n",
    "optimizer = optim.Adam(model.parameters(), lr=1e-4)\n"
   ]
  },
  {
   "cell_type": "code",
   "execution_count": 5,
   "id": "1a69190f",
   "metadata": {
    "execution": {
     "iopub.execute_input": "2025-09-26T06:35:15.705192Z",
     "iopub.status.busy": "2025-09-26T06:35:15.704979Z",
     "iopub.status.idle": "2025-09-26T07:19:55.014011Z",
     "shell.execute_reply": "2025-09-26T07:19:55.013077Z"
    },
    "papermill": {
     "duration": 2679.313711,
     "end_time": "2025-09-26T07:19:55.015403",
     "exception": false,
     "start_time": "2025-09-26T06:35:15.701692",
     "status": "completed"
    },
    "tags": []
   },
   "outputs": [
    {
     "name": "stdout",
     "output_type": "stream",
     "text": [
      "\n",
      "Epoch 1/20\n"
     ]
    },
    {
     "name": "stderr",
     "output_type": "stream",
     "text": [
      "                                                                      \r"
     ]
    },
    {
     "name": "stdout",
     "output_type": "stream",
     "text": [
      "Epoch 1/20 - Train Loss: 0.4308, Train Acc: 0.8705, Val Loss: 0.1326, Val Acc: 0.9631\n",
      "\n",
      "Epoch 2/20\n"
     ]
    },
    {
     "name": "stderr",
     "output_type": "stream",
     "text": [
      "                                                                      \r"
     ]
    },
    {
     "name": "stdout",
     "output_type": "stream",
     "text": [
      "Epoch 2/20 - Train Loss: 0.0641, Train Acc: 0.9859, Val Loss: 0.0660, Val Acc: 0.9864\n",
      "\n",
      "Epoch 3/20\n"
     ]
    },
    {
     "name": "stderr",
     "output_type": "stream",
     "text": [
      "                                                                       \r"
     ]
    },
    {
     "name": "stdout",
     "output_type": "stream",
     "text": [
      "Epoch 3/20 - Train Loss: 0.0388, Train Acc: 0.9913, Val Loss: 0.0458, Val Acc: 0.9883\n",
      "\n",
      "Epoch 4/20\n"
     ]
    },
    {
     "name": "stderr",
     "output_type": "stream",
     "text": [
      "                                                                      \r"
     ]
    },
    {
     "name": "stdout",
     "output_type": "stream",
     "text": [
      "Epoch 4/20 - Train Loss: 0.0237, Train Acc: 0.9952, Val Loss: 0.0576, Val Acc: 0.9845\n",
      "\n",
      "Epoch 5/20\n"
     ]
    },
    {
     "name": "stderr",
     "output_type": "stream",
     "text": [
      "                                                                      \r"
     ]
    },
    {
     "name": "stdout",
     "output_type": "stream",
     "text": [
      "Epoch 5/20 - Train Loss: 0.0207, Train Acc: 0.9964, Val Loss: 0.0442, Val Acc: 0.9864\n",
      "\n",
      "Epoch 6/20\n"
     ]
    },
    {
     "name": "stderr",
     "output_type": "stream",
     "text": [
      "                                                                       \r"
     ]
    },
    {
     "name": "stdout",
     "output_type": "stream",
     "text": [
      "Epoch 6/20 - Train Loss: 0.0126, Train Acc: 0.9973, Val Loss: 0.0643, Val Acc: 0.9845\n",
      "\n",
      "Epoch 7/20\n"
     ]
    },
    {
     "name": "stderr",
     "output_type": "stream",
     "text": [
      "                                                                      \r"
     ]
    },
    {
     "name": "stdout",
     "output_type": "stream",
     "text": [
      "Epoch 7/20 - Train Loss: 0.0172, Train Acc: 0.9954, Val Loss: 0.0619, Val Acc: 0.9806\n",
      "\n",
      "Epoch 8/20\n"
     ]
    },
    {
     "name": "stderr",
     "output_type": "stream",
     "text": [
      "                                                                     \r"
     ]
    },
    {
     "name": "stdout",
     "output_type": "stream",
     "text": [
      "Epoch 8/20 - Train Loss: 0.0208, Train Acc: 0.9947, Val Loss: 0.0628, Val Acc: 0.9806\n",
      "\n",
      "Epoch 9/20\n"
     ]
    },
    {
     "name": "stderr",
     "output_type": "stream",
     "text": [
      "                                                                      \r"
     ]
    },
    {
     "name": "stdout",
     "output_type": "stream",
     "text": [
      "Epoch 9/20 - Train Loss: 0.0159, Train Acc: 0.9952, Val Loss: 0.0398, Val Acc: 0.9864\n",
      "\n",
      "Epoch 10/20\n"
     ]
    },
    {
     "name": "stderr",
     "output_type": "stream",
     "text": [
      "                                                                       \r"
     ]
    },
    {
     "name": "stdout",
     "output_type": "stream",
     "text": [
      "Epoch 10/20 - Train Loss: 0.0145, Train Acc: 0.9973, Val Loss: 0.0380, Val Acc: 0.9883\n",
      "\n",
      "Epoch 11/20\n"
     ]
    },
    {
     "name": "stderr",
     "output_type": "stream",
     "text": [
      "                                                                        \r"
     ]
    },
    {
     "name": "stdout",
     "output_type": "stream",
     "text": [
      "Epoch 11/20 - Train Loss: 0.0056, Train Acc: 0.9988, Val Loss: 0.0377, Val Acc: 0.9883\n",
      "\n",
      "Epoch 12/20\n"
     ]
    },
    {
     "name": "stderr",
     "output_type": "stream",
     "text": [
      "                                                                         \r"
     ]
    },
    {
     "name": "stdout",
     "output_type": "stream",
     "text": [
      "Epoch 12/20 - Train Loss: 0.0024, Train Acc: 0.9998, Val Loss: 0.0469, Val Acc: 0.9903\n",
      "\n",
      "Epoch 13/20\n"
     ]
    },
    {
     "name": "stderr",
     "output_type": "stream",
     "text": [
      "                                                                         \r"
     ]
    },
    {
     "name": "stdout",
     "output_type": "stream",
     "text": [
      "Epoch 13/20 - Train Loss: 0.0021, Train Acc: 1.0000, Val Loss: 0.0374, Val Acc: 0.9922\n",
      "\n",
      "Epoch 14/20\n"
     ]
    },
    {
     "name": "stderr",
     "output_type": "stream",
     "text": [
      "                                                                        \r"
     ]
    },
    {
     "name": "stdout",
     "output_type": "stream",
     "text": [
      "Epoch 14/20 - Train Loss: 0.0016, Train Acc: 0.9998, Val Loss: 0.0358, Val Acc: 0.9922\n",
      "\n",
      "Epoch 15/20\n"
     ]
    },
    {
     "name": "stderr",
     "output_type": "stream",
     "text": [
      "                                                                        \r"
     ]
    },
    {
     "name": "stdout",
     "output_type": "stream",
     "text": [
      "Epoch 15/20 - Train Loss: 0.0104, Train Acc: 0.9964, Val Loss: 0.0908, Val Acc: 0.9748\n",
      "\n",
      "Epoch 16/20\n"
     ]
    },
    {
     "name": "stderr",
     "output_type": "stream",
     "text": [
      "                                                                      \r"
     ]
    },
    {
     "name": "stdout",
     "output_type": "stream",
     "text": [
      "Epoch 16/20 - Train Loss: 0.0390, Train Acc: 0.9884, Val Loss: 0.0766, Val Acc: 0.9806\n",
      "\n",
      "Epoch 17/20\n"
     ]
    },
    {
     "name": "stderr",
     "output_type": "stream",
     "text": [
      "                                                                         \r"
     ]
    },
    {
     "name": "stdout",
     "output_type": "stream",
     "text": [
      "Epoch 17/20 - Train Loss: 0.0180, Train Acc: 0.9947, Val Loss: 0.0620, Val Acc: 0.9845\n",
      "\n",
      "Epoch 18/20\n"
     ]
    },
    {
     "name": "stderr",
     "output_type": "stream",
     "text": [
      "                                                                         \r"
     ]
    },
    {
     "name": "stdout",
     "output_type": "stream",
     "text": [
      "Epoch 18/20 - Train Loss: 0.0066, Train Acc: 0.9983, Val Loss: 0.0494, Val Acc: 0.9864\n",
      "\n",
      "Epoch 19/20\n"
     ]
    },
    {
     "name": "stderr",
     "output_type": "stream",
     "text": [
      "                                                                         \r"
     ]
    },
    {
     "name": "stdout",
     "output_type": "stream",
     "text": [
      "Epoch 19/20 - Train Loss: 0.0053, Train Acc: 0.9985, Val Loss: 0.0712, Val Acc: 0.9767\n",
      "\n",
      "Epoch 20/20\n"
     ]
    },
    {
     "name": "stderr",
     "output_type": "stream",
     "text": [
      "                                                                         "
     ]
    },
    {
     "name": "stdout",
     "output_type": "stream",
     "text": [
      "Epoch 20/20 - Train Loss: 0.0023, Train Acc: 0.9995, Val Loss: 0.0569, Val Acc: 0.9883\n"
     ]
    },
    {
     "name": "stderr",
     "output_type": "stream",
     "text": [
      "\r"
     ]
    }
   ],
   "source": [
    "from tqdm import tqdm\n",
    "\n",
    "def train_model(model, criterion, optimizer, train_loader, val_loader, epochs, device):\n",
    "    history = {\"train_loss\": [], \"val_loss\": [], \"train_acc\": [], \"val_acc\": []}\n",
    "\n",
    "    for epoch in range(epochs):\n",
    "        print(f\"\\nEpoch {epoch+1}/{epochs}\")\n",
    "\n",
    "        # -----------------------------\n",
    "        # Training phase\n",
    "        # -----------------------------\n",
    "        model.train()\n",
    "        running_loss, correct, total = 0.0, 0, 0\n",
    "        loop = tqdm(train_loader, desc=f\"Train {epoch+1}/{epochs}\", leave=False)\n",
    "\n",
    "        for images, labels in loop:\n",
    "            images, labels = images.to(device), labels.to(device)\n",
    "\n",
    "            optimizer.zero_grad()\n",
    "            outputs = model(images)\n",
    "            loss = criterion(outputs, labels)\n",
    "\n",
    "            loss.backward()\n",
    "            optimizer.step()\n",
    "\n",
    "            running_loss += loss.item() * images.size(0)\n",
    "            preds = outputs.argmax(1)\n",
    "            correct += (preds == labels).sum().item()\n",
    "            total += labels.size(0)\n",
    "\n",
    "            loop.set_postfix(loss=loss.item())\n",
    "\n",
    "        train_loss = running_loss / total\n",
    "        train_acc  = correct / total\n",
    "\n",
    "        # -----------------------------\n",
    "        # Validation phase\n",
    "        # -----------------------------\n",
    "        model.eval()\n",
    "        val_loss, val_correct, val_total = 0.0, 0, 0\n",
    "        loop_val = tqdm(val_loader, desc=f\"Val {epoch+1}/{epochs}\", leave=False)\n",
    "\n",
    "        with torch.no_grad():\n",
    "            for images, labels in loop_val:\n",
    "                images, labels = images.to(device), labels.to(device)\n",
    "                outputs = model(images)\n",
    "                loss = criterion(outputs, labels)\n",
    "\n",
    "                val_loss += loss.item() * images.size(0)\n",
    "                preds = outputs.argmax(1)\n",
    "                val_correct += (preds == labels).sum().item()\n",
    "                val_total += labels.size(0)\n",
    "\n",
    "                loop_val.set_postfix(loss=loss.item())\n",
    "\n",
    "        val_loss /= val_total\n",
    "        val_acc = val_correct / val_total\n",
    "\n",
    "        # Save history\n",
    "        history[\"train_loss\"].append(train_loss)\n",
    "        history[\"val_loss\"].append(val_loss)\n",
    "        history[\"train_acc\"].append(train_acc)\n",
    "        history[\"val_acc\"].append(val_acc)\n",
    "\n",
    "        print(f\"Epoch {epoch+1}/{epochs} - \"\n",
    "              f\"Train Loss: {train_loss:.4f}, Train Acc: {train_acc:.4f}, \"\n",
    "              f\"Val Loss: {val_loss:.4f}, Val Acc: {val_acc:.4f}\")\n",
    "\n",
    "    return history\n",
    "\n",
    "\n",
    "# ============================\n",
    "# Run Training\n",
    "# ============================\n",
    "num_epochs = 20\n",
    "history = train_model(model, criterion, optimizer, train_loader, val_loader, num_epochs, device)\n"
   ]
  },
  {
   "cell_type": "code",
   "execution_count": 6,
   "id": "70230bd9",
   "metadata": {
    "execution": {
     "iopub.execute_input": "2025-09-26T07:19:55.520972Z",
     "iopub.status.busy": "2025-09-26T07:19:55.520219Z",
     "iopub.status.idle": "2025-09-26T07:19:56.096568Z",
     "shell.execute_reply": "2025-09-26T07:19:56.095897Z"
    },
    "papermill": {
     "duration": 0.800932,
     "end_time": "2025-09-26T07:19:56.098075",
     "exception": false,
     "start_time": "2025-09-26T07:19:55.297143",
     "status": "completed"
    },
    "tags": []
   },
   "outputs": [
    {
     "data": {
      "image/png": "[encoded data removed]",
      "text/plain": [
       "<Figure size 1200x500 with 2 Axes>"
      ]
     },
     "metadata": {},
     "output_type": "display_data"
    }
   ],
   "source": [
    "# ============================\n",
    "# 6. Plot Training Curves\n",
    "# ============================\n",
    "plt.figure(figsize=(12,5))\n",
    "\n",
    "plt.subplot(1,2,1)\n",
    "plt.plot(history[\"train_loss\"], label=\"Train Loss\")\n",
    "plt.plot(history[\"val_loss\"], label=\"Val Loss\")\n",
    "plt.xlabel(\"Epochs\"); plt.ylabel(\"Loss\"); plt.legend(); plt.title(\"Loss Curve\")\n",
    "\n",
    "plt.subplot(1,2,2)\n",
    "plt.plot(history[\"train_acc\"], label=\"Train Acc\")\n",
    "plt.plot(history[\"val_acc\"], label=\"Val Acc\")\n",
    "plt.xlabel(\"Epochs\"); plt.ylabel(\"Accuracy\"); plt.legend(); plt.title(\"Accuracy Curve\")\n",
    "\n",
    "plt.show()\n"
   ]
  },
  {
   "cell_type": "code",
   "execution_count": 7,
   "id": "db1899ee",
   "metadata": {
    "execution": {
     "iopub.execute_input": "2025-09-26T07:19:56.548206Z",
     "iopub.status.busy": "2025-09-26T07:19:56.547693Z",
     "iopub.status.idle": "2025-09-26T07:20:12.012931Z",
     "shell.execute_reply": "2025-09-26T07:20:12.012009Z"
    },
    "papermill": {
     "duration": 15.691325,
     "end_time": "2025-09-26T07:20:12.014221",
     "exception": false,
     "start_time": "2025-09-26T07:19:56.322896",
     "status": "completed"
    },
    "tags": []
   },
   "outputs": [
    {
     "data": {
      "image/png": "[encoded data removed]",
      "text/plain": [
       "<Figure size 600x500 with 2 Axes>"
      ]
     },
     "metadata": {},
     "output_type": "display_data"
    },
    {
     "name": "stdout",
     "output_type": "stream",
     "text": [
      "\n",
      "=== Test Metrics ===\n",
      "Accuracy: 0.9942\n",
      "Precision: 0.9941\n",
      "Recall:    0.9937\n",
      "F1 Score:  0.9939\n"
     ]
    }
   ],
   "source": [
    "# ============================\n",
    "# 7. Evaluation Function\n",
    "# ============================\n",
    "from sklearn.metrics import accuracy_score, precision_score, recall_score, f1_score\n",
    "\n",
    "def evaluate_model(model, test_loader, class_names, device):\n",
    "    model.eval()\n",
    "    y_true, y_pred = [], []\n",
    "    with torch.no_grad():\n",
    "        for img_rgb, labels in test_loader:  # no scharr now\n",
    "            img_rgb = img_rgb.to(device)\n",
    "            labels = labels.to(device)\n",
    "\n",
    "            out = model(img_rgb)             # forward with RGB only\n",
    "            preds = out.argmax(1)\n",
    "\n",
    "            y_true.extend(labels.cpu().numpy())\n",
    "            y_pred.extend(preds.cpu().numpy())\n",
    "\n",
    "    # Confusion matrix\n",
    "    cm = confusion_matrix(y_true, y_pred)\n",
    "    plt.figure(figsize=(6,5))\n",
    "    sns.heatmap(cm, annot=True, fmt='d', cmap='Blues',\n",
    "                xticklabels=class_names, yticklabels=class_names)\n",
    "    plt.xlabel(\"Predicted\")\n",
    "    plt.ylabel(\"True\")\n",
    "    plt.title(\"Confusion Matrix\")\n",
    "    plt.show()\n",
    "\n",
    "    # Metrics\n",
    "    acc = accuracy_score(y_true, y_pred)\n",
    "    prec = precision_score(y_true, y_pred, average='macro', zero_division=0)\n",
    "    rec = recall_score(y_true, y_pred, average='macro', zero_division=0)\n",
    "    f1 = f1_score(y_true, y_pred, average='macro', zero_division=0)\n",
    "    print(\"\\n=== Test Metrics ===\")\n",
    "    print(f\"Accuracy: {acc:.4f}\\nPrecision: {prec:.4f}\\nRecall:    {rec:.4f}\\nF1 Score:  {f1:.4f}\")\n",
    "    return acc, prec, rec, f1\n",
    "\n",
    "# Usage\n",
    "test_metrics = evaluate_model(model, test_loader, class_names, device)\n"
   ]
  },
  {
   "cell_type": "code",
   "execution_count": null,
   "id": "0a31bd2f",
   "metadata": {
    "papermill": {
     "duration": 0.223315,
     "end_time": "2025-09-26T07:20:12.465664",
     "exception": false,
     "start_time": "2025-09-26T07:20:12.242349",
     "status": "completed"
    },
    "tags": []
   },
   "outputs": [],
   "source": []
  }
 ],
 "metadata": {
  "kaggle": {
   "accelerator": "gpu",
   "dataSources": [
    {
     "datasetId": 8329360,
     "sourceId": 13146723,
     "sourceType": "datasetVersion"
    }
   ],
   "dockerImageVersionId": 31090,
   "isGpuEnabled": true,
   "isInternetEnabled": true,
   "language": "python",
   "sourceType": "notebook"
  },
  "kernelspec": {
   "display_name": "Python 3",
   "language": "python",
   "name": "python3"
  },
  "language_info": {
   "codemirror_mode": {
    "name": "ipython",
    "version": 3
   },
   "file_extension": ".py",
   "mimetype": "text/x-python",
   "name": "python",
   "nbconvert_exporter": "python",
   "pygments_lexer": "ipython3",
   "version": "3.11.13"
  },
  "papermill": {
   "default_parameters": {},
   "duration": 3056.987521,
   "end_time": "2025-09-26T07:20:15.691475",
   "environment_variables": {},
   "exception": null,
   "input_path": "__notebook__.ipynb",
   "output_path": "__notebook__.ipynb",
   "parameters": {},
   "start_time": "2025-09-26T06:29:18.703954",
   "version": "2.6.0"
  }
 },
 "nbformat": 4,
 "nbformat_minor": 5
}
