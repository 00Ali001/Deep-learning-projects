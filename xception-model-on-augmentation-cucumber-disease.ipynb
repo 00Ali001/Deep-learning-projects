{
 "cells": [
  {
   "cell_type": "code",
   "execution_count": 1,
   "id": "0fc1503d",
   "metadata": {
    "_cell_guid": "b1076dfc-b9ad-4769-8c92-a6c4dae69d19",
    "_uuid": "8f2839f25d086af736a60e9eeb907d3b93b6e0e5",
    "execution": {
     "iopub.execute_input": "2025-09-30T10:02:52.053476Z",
     "iopub.status.busy": "2025-09-30T10:02:52.053166Z",
     "iopub.status.idle": "2025-09-30T10:08:44.591019Z",
     "shell.execute_reply": "2025-09-30T10:08:44.590245Z"
    },
    "papermill": {
     "duration": 352.544676,
     "end_time": "2025-09-30T10:08:44.594134",
     "exception": false,
     "start_time": "2025-09-30T10:02:52.049458",
     "status": "completed"
    },
    "tags": []
   },
   "outputs": [
    {
     "name": "stdout",
     "output_type": "stream",
     "text": [
      "✅ Augmentation complete. Dataset saved in: /kaggle/working/augmentation\n",
      "✅ Zipped dataset ready at: /kaggle/working/augmentation.zip\n"
     ]
    }
   ],
   "source": [
    "# ============================\n",
    "# 1. Imports\n",
    "# ============================\n",
    "import os\n",
    "import cv2\n",
    "import numpy as np\n",
    "import albumentations as A\n",
    "import shutil\n",
    "import zipfile\n",
    "\n",
    "# ============================\n",
    "# 2. Paths\n",
    "# ============================\n",
    "input_dir = \"/kaggle/input/new-dataset-cucumber-disease-8-classes/New data set\"\n",
    "output_dir = \"/kaggle/working/augmentation\"\n",
    "\n",
    "os.makedirs(output_dir, exist_ok=True)\n",
    "\n",
    "# ============================\n",
    "# 3. Define Augmentations\n",
    "# ============================\n",
    "transform = A.Compose([\n",
    "    A.HorizontalFlip(p=0.5),\n",
    "    A.VerticalFlip(p=0.5),\n",
    "    A.Affine(\n",
    "        scale=(0.75, 1.25),\n",
    "        translate_percent=(0.0, 0.15),\n",
    "        rotate=(-30, 30),\n",
    "        p=0.7\n",
    "    ),\n",
    "    A.RandomBrightnessContrast(\n",
    "        brightness_limit=0.25,\n",
    "        contrast_limit=0.25,\n",
    "        p=0.7\n",
    "    )\n",
    "])\n",
    "\n",
    "# ============================\n",
    "# 4. Process Each Class\n",
    "# ============================\n",
    "num_augmented = 3   # number of augmented versions per image\n",
    "valid_exts = (\".jpg\", \".jpeg\", \".png\", \".bmp\")\n",
    "\n",
    "for root, dirs, files in os.walk(input_dir):\n",
    "    rel_path = os.path.relpath(root, input_dir)\n",
    "    class_output_path = os.path.join(output_dir, rel_path)\n",
    "    os.makedirs(class_output_path, exist_ok=True)\n",
    "\n",
    "    for file_name in files:\n",
    "        if not file_name.lower().endswith(valid_exts):\n",
    "            continue  # skip non-images\n",
    "\n",
    "        src = os.path.join(root, file_name)\n",
    "        dst = os.path.join(class_output_path, file_name)\n",
    "\n",
    "        # Copy original image\n",
    "        shutil.copy2(src, dst)\n",
    "\n",
    "        # Load image for augmentation\n",
    "        image = cv2.imread(src)\n",
    "        if image is None:\n",
    "            continue\n",
    "        image = cv2.cvtColor(image, cv2.COLOR_BGR2RGB)\n",
    "\n",
    "        # Generate augmentations\n",
    "        for i in range(num_augmented):\n",
    "            augmented = transform(image=image)\n",
    "            aug_img = augmented[\"image\"]\n",
    "\n",
    "            aug_filename = f\"{os.path.splitext(file_name)[0]}_aug{i+1}.jpg\"\n",
    "            aug_path = os.path.join(class_output_path, aug_filename)\n",
    "            cv2.imwrite(aug_path, cv2.cvtColor(aug_img, cv2.COLOR_RGB2BGR))\n",
    "\n",
    "print(\"✅ Augmentation complete. Dataset saved in:\", output_dir)\n",
    "\n",
    "# ============================\n",
    "# 5. Zip the Augmented Dataset\n",
    "# ============================\n",
    "zip_path = \"/kaggle/working/augmentation.zip\"\n",
    "with zipfile.ZipFile(zip_path, 'w', zipfile.ZIP_DEFLATED) as zipf:\n",
    "    for root, dirs, files in os.walk(output_dir):\n",
    "        for file in files:\n",
    "            file_path = os.path.join(root, file)\n",
    "            zipf.write(file_path, os.path.relpath(file_path, output_dir))\n",
    "\n",
    "print(\"✅ Zipped dataset ready at:\", zip_path)\n"
   ]
  },
  {
   "cell_type": "code",
   "execution_count": 2,
   "id": "6569a055",
   "metadata": {
    "execution": {
     "iopub.execute_input": "2025-09-30T10:08:44.599134Z",
     "iopub.status.busy": "2025-09-30T10:08:44.598808Z",
     "iopub.status.idle": "2025-09-30T10:08:53.429351Z",
     "shell.execute_reply": "2025-09-30T10:08:53.428482Z"
    },
    "papermill": {
     "duration": 8.834176,
     "end_time": "2025-09-30T10:08:53.430509",
     "exception": false,
     "start_time": "2025-09-30T10:08:44.596333",
     "status": "completed"
    },
    "tags": []
   },
   "outputs": [
    {
     "name": "stdout",
     "output_type": "stream",
     "text": [
      "Using device: cuda\n"
     ]
    }
   ],
   "source": [
    "# ============================\n",
    "# 1. Imports\n",
    "# ============================\n",
    "import torch\n",
    "import torch.nn as nn\n",
    "import torch.optim as optim\n",
    "from torch.utils.data import DataLoader, random_split\n",
    "import torchvision.transforms as transforms\n",
    "import torchvision.datasets as datasets\n",
    "import torchvision.models as models\n",
    "import matplotlib.pyplot as plt\n",
    "import numpy as np\n",
    "from sklearn.metrics import confusion_matrix, classification_report\n",
    "import seaborn as sns\n",
    "from tqdm import tqdm\n",
    "\n",
    "# ============================\n",
    "# 2. Device Config\n",
    "# ============================\n",
    "device = torch.device(\"cuda\" if torch.cuda.is_available() else \"cpu\")\n",
    "print(\"Using device:\", device)\n"
   ]
  },
  {
   "cell_type": "code",
   "execution_count": 3,
   "id": "011e0325",
   "metadata": {
    "execution": {
     "iopub.execute_input": "2025-09-30T10:08:53.435802Z",
     "iopub.status.busy": "2025-09-30T10:08:53.435446Z",
     "iopub.status.idle": "2025-09-30T10:08:53.456223Z",
     "shell.execute_reply": "2025-09-30T10:08:53.455529Z"
    },
    "papermill": {
     "duration": 0.024522,
     "end_time": "2025-09-30T10:08:53.457281",
     "exception": false,
     "start_time": "2025-09-30T10:08:53.432759",
     "status": "completed"
    },
    "tags": []
   },
   "outputs": [
    {
     "name": "stdout",
     "output_type": "stream",
     "text": [
      "Classes: ['Anthracnose', 'Bacterial Wilt', 'Belly Rot', 'Downy Mildew', 'Fresh Cucumber', 'Fresh Leaf', 'Gummy Stem Blight', 'Pythium Fruit Rot']\n",
      "Train: 4124, Val: 515, Test: 517\n"
     ]
    }
   ],
   "source": [
    "# ============================\n",
    "# 3. Dataset & Dataloaders\n",
    "# ============================\n",
    "data_dir = \"//kaggle/working/augmentation\"\n",
    "\n",
    "# Transforms\n",
    "transform = transforms.Compose([\n",
    "    transforms.Resize((224,224)),\n",
    "    transforms.ToTensor(),\n",
    "    transforms.Normalize([0.485, 0.456, 0.406],\n",
    "                         [0.229, 0.224, 0.225])\n",
    "])\n",
    "\n",
    "# Load dataset\n",
    "dataset = datasets.ImageFolder(root=data_dir, transform=transform)\n",
    "class_names = dataset.classes\n",
    "num_classes = len(class_names)\n",
    "print(\"Classes:\", class_names)\n",
    "\n",
    "# Split (70% train, 80% val, 10% test)\n",
    "train_size = int(0.8 * len(dataset))\n",
    "val_size   = int(0.1 * len(dataset))\n",
    "test_size  = len(dataset) - train_size - val_size\n",
    "\n",
    "train_dataset, val_dataset, test_dataset = random_split(dataset, [train_size, val_size, test_size])\n",
    "\n",
    "# Dataloaders\n",
    "batch_size = 32\n",
    "train_loader = DataLoader(train_dataset, batch_size=batch_size, shuffle=True, num_workers=2)\n",
    "val_loader   = DataLoader(val_dataset, batch_size=batch_size, shuffle=False, num_workers=2)\n",
    "test_loader  = DataLoader(test_dataset, batch_size=batch_size, shuffle=False, num_workers=2)\n",
    "\n",
    "print(f\"Train: {len(train_dataset)}, Val: {len(val_dataset)}, Test: {len(test_dataset)}\")\n"
   ]
  },
  {
   "cell_type": "code",
   "execution_count": 4,
   "id": "b75a675f",
   "metadata": {
    "execution": {
     "iopub.execute_input": "2025-09-30T10:08:53.462346Z",
     "iopub.status.busy": "2025-09-30T10:08:53.462130Z",
     "iopub.status.idle": "2025-09-30T10:09:01.324914Z",
     "shell.execute_reply": "2025-09-30T10:09:01.323789Z"
    },
    "papermill": {
     "duration": 7.866972,
     "end_time": "2025-09-30T10:09:01.326474",
     "exception": false,
     "start_time": "2025-09-30T10:08:53.459502",
     "status": "completed"
    },
    "tags": []
   },
   "outputs": [
    {
     "name": "stderr",
     "output_type": "stream",
     "text": [
      "/usr/local/lib/python3.11/dist-packages/timm/models/_factory.py:126: UserWarning: Mapping deprecated model name xception to current legacy_xception.\n",
      "  model = create_fn(\n",
      "Downloading: \"https://github.com/rwightman/pytorch-image-models/releases/download/v0.1-cadene/xception-43020ad28.pth\" to /root/.cache/torch/hub/checkpoints/xception-43020ad28.pth\n"
     ]
    }
   ],
   "source": [
    "import timm\n",
    "\n",
    "# ============================\n",
    "# 4. Model, Loss, Optimizer (Xception)\n",
    "# ============================\n",
    "# Create pretrained Xception\n",
    "model = timm.create_model(\"xception\", pretrained=True)\n",
    "\n",
    "# Replace classifier / “head” for your dataset\n",
    "# The head for xception is typically a Linear layer\n",
    "in_features = model.get_classifier().in_features\n",
    "model.reset_classifier(num_classes=num_classes)\n",
    "\n",
    "model = model.to(device)\n",
    "\n",
    "# Loss and optimizer\n",
    "criterion = nn.CrossEntropyLoss()\n",
    "optimizer = optim.Adam(model.parameters(), lr=1e-4)\n"
   ]
  },
  {
   "cell_type": "code",
   "execution_count": 5,
   "id": "5ed58fdb",
   "metadata": {
    "execution": {
     "iopub.execute_input": "2025-09-30T10:09:01.332187Z",
     "iopub.status.busy": "2025-09-30T10:09:01.331946Z",
     "iopub.status.idle": "2025-09-30T10:55:48.958782Z",
     "shell.execute_reply": "2025-09-30T10:55:48.957706Z"
    },
    "papermill": {
     "duration": 2807.63108,
     "end_time": "2025-09-30T10:55:48.959948",
     "exception": false,
     "start_time": "2025-09-30T10:09:01.328868",
     "status": "completed"
    },
    "tags": []
   },
   "outputs": [
    {
     "name": "stdout",
     "output_type": "stream",
     "text": [
      "\n",
      "Epoch 1/20\n"
     ]
    },
    {
     "name": "stderr",
     "output_type": "stream",
     "text": [
      "                                                                      \r"
     ]
    },
    {
     "name": "stdout",
     "output_type": "stream",
     "text": [
      "Epoch 1/20 - Train Loss: 0.6788, Train Acc: 0.8269, Val Loss: 0.1215, Val Acc: 0.9767\n",
      "\n",
      "Epoch 2/20\n"
     ]
    },
    {
     "name": "stderr",
     "output_type": "stream",
     "text": [
      "                                                                       \r"
     ]
    },
    {
     "name": "stdout",
     "output_type": "stream",
     "text": [
      "Epoch 2/20 - Train Loss: 0.0937, Train Acc: 0.9794, Val Loss: 0.0495, Val Acc: 0.9883\n",
      "\n",
      "Epoch 3/20\n"
     ]
    },
    {
     "name": "stderr",
     "output_type": "stream",
     "text": [
      "                                                                       \r"
     ]
    },
    {
     "name": "stdout",
     "output_type": "stream",
     "text": [
      "Epoch 3/20 - Train Loss: 0.0320, Train Acc: 0.9949, Val Loss: 0.0340, Val Acc: 0.9845\n",
      "\n",
      "Epoch 4/20\n"
     ]
    },
    {
     "name": "stderr",
     "output_type": "stream",
     "text": [
      "                                                                       \r"
     ]
    },
    {
     "name": "stdout",
     "output_type": "stream",
     "text": [
      "Epoch 4/20 - Train Loss: 0.0186, Train Acc: 0.9971, Val Loss: 0.0232, Val Acc: 0.9922\n",
      "\n",
      "Epoch 5/20\n"
     ]
    },
    {
     "name": "stderr",
     "output_type": "stream",
     "text": [
      "                                                                        \r"
     ]
    },
    {
     "name": "stdout",
     "output_type": "stream",
     "text": [
      "Epoch 5/20 - Train Loss: 0.0145, Train Acc: 0.9976, Val Loss: 0.0270, Val Acc: 0.9903\n",
      "\n",
      "Epoch 6/20\n"
     ]
    },
    {
     "name": "stderr",
     "output_type": "stream",
     "text": [
      "                                                                        \r"
     ]
    },
    {
     "name": "stdout",
     "output_type": "stream",
     "text": [
      "Epoch 6/20 - Train Loss: 0.0085, Train Acc: 0.9985, Val Loss: 0.0329, Val Acc: 0.9845\n",
      "\n",
      "Epoch 7/20\n"
     ]
    },
    {
     "name": "stderr",
     "output_type": "stream",
     "text": [
      "                                                                        \r"
     ]
    },
    {
     "name": "stdout",
     "output_type": "stream",
     "text": [
      "Epoch 7/20 - Train Loss: 0.0230, Train Acc: 0.9949, Val Loss: 0.0705, Val Acc: 0.9786\n",
      "\n",
      "Epoch 8/20\n"
     ]
    },
    {
     "name": "stderr",
     "output_type": "stream",
     "text": [
      "                                                                       \r"
     ]
    },
    {
     "name": "stdout",
     "output_type": "stream",
     "text": [
      "Epoch 8/20 - Train Loss: 0.0160, Train Acc: 0.9954, Val Loss: 0.0451, Val Acc: 0.9864\n",
      "\n",
      "Epoch 9/20\n"
     ]
    },
    {
     "name": "stderr",
     "output_type": "stream",
     "text": [
      "                                                                        \r"
     ]
    },
    {
     "name": "stdout",
     "output_type": "stream",
     "text": [
      "Epoch 9/20 - Train Loss: 0.0148, Train Acc: 0.9964, Val Loss: 0.0496, Val Acc: 0.9903\n",
      "\n",
      "Epoch 10/20\n"
     ]
    },
    {
     "name": "stderr",
     "output_type": "stream",
     "text": [
      "                                                                         \r"
     ]
    },
    {
     "name": "stdout",
     "output_type": "stream",
     "text": [
      "Epoch 10/20 - Train Loss: 0.0082, Train Acc: 0.9985, Val Loss: 0.0373, Val Acc: 0.9922\n",
      "\n",
      "Epoch 11/20\n"
     ]
    },
    {
     "name": "stderr",
     "output_type": "stream",
     "text": [
      "                                                                         \r"
     ]
    },
    {
     "name": "stdout",
     "output_type": "stream",
     "text": [
      "Epoch 11/20 - Train Loss: 0.0096, Train Acc: 0.9971, Val Loss: 0.0571, Val Acc: 0.9806\n",
      "\n",
      "Epoch 12/20\n"
     ]
    },
    {
     "name": "stderr",
     "output_type": "stream",
     "text": [
      "                                                                         \r"
     ]
    },
    {
     "name": "stdout",
     "output_type": "stream",
     "text": [
      "Epoch 12/20 - Train Loss: 0.0111, Train Acc: 0.9966, Val Loss: 0.0775, Val Acc: 0.9845\n",
      "\n",
      "Epoch 13/20\n"
     ]
    },
    {
     "name": "stderr",
     "output_type": "stream",
     "text": [
      "                                                                         \r"
     ]
    },
    {
     "name": "stdout",
     "output_type": "stream",
     "text": [
      "Epoch 13/20 - Train Loss: 0.0108, Train Acc: 0.9966, Val Loss: 0.0466, Val Acc: 0.9786\n",
      "\n",
      "Epoch 14/20\n"
     ]
    },
    {
     "name": "stderr",
     "output_type": "stream",
     "text": [
      "                                                                         \r"
     ]
    },
    {
     "name": "stdout",
     "output_type": "stream",
     "text": [
      "Epoch 14/20 - Train Loss: 0.0033, Train Acc: 0.9995, Val Loss: 0.0486, Val Acc: 0.9786\n",
      "\n",
      "Epoch 15/20\n"
     ]
    },
    {
     "name": "stderr",
     "output_type": "stream",
     "text": [
      "                                                                      \r"
     ]
    },
    {
     "name": "stdout",
     "output_type": "stream",
     "text": [
      "Epoch 15/20 - Train Loss: 0.0091, Train Acc: 0.9973, Val Loss: 0.1157, Val Acc: 0.9689\n",
      "\n",
      "Epoch 16/20\n"
     ]
    },
    {
     "name": "stderr",
     "output_type": "stream",
     "text": [
      "                                                                        \r"
     ]
    },
    {
     "name": "stdout",
     "output_type": "stream",
     "text": [
      "Epoch 16/20 - Train Loss: 0.0113, Train Acc: 0.9971, Val Loss: 0.0908, Val Acc: 0.9767\n",
      "\n",
      "Epoch 17/20\n"
     ]
    },
    {
     "name": "stderr",
     "output_type": "stream",
     "text": [
      "                                                                         \r"
     ]
    },
    {
     "name": "stdout",
     "output_type": "stream",
     "text": [
      "Epoch 17/20 - Train Loss: 0.0069, Train Acc: 0.9976, Val Loss: 0.0809, Val Acc: 0.9748\n",
      "\n",
      "Epoch 18/20\n"
     ]
    },
    {
     "name": "stderr",
     "output_type": "stream",
     "text": [
      "                                                                        \r"
     ]
    },
    {
     "name": "stdout",
     "output_type": "stream",
     "text": [
      "Epoch 18/20 - Train Loss: 0.0070, Train Acc: 0.9976, Val Loss: 0.0399, Val Acc: 0.9786\n",
      "\n",
      "Epoch 19/20\n"
     ]
    },
    {
     "name": "stderr",
     "output_type": "stream",
     "text": [
      "                                                                         \r"
     ]
    },
    {
     "name": "stdout",
     "output_type": "stream",
     "text": [
      "Epoch 19/20 - Train Loss: 0.0079, Train Acc: 0.9983, Val Loss: 0.0445, Val Acc: 0.9883\n",
      "\n",
      "Epoch 20/20\n"
     ]
    },
    {
     "name": "stderr",
     "output_type": "stream",
     "text": [
      "                                                                         "
     ]
    },
    {
     "name": "stdout",
     "output_type": "stream",
     "text": [
      "Epoch 20/20 - Train Loss: 0.0052, Train Acc: 0.9985, Val Loss: 0.0466, Val Acc: 0.9845\n"
     ]
    },
    {
     "name": "stderr",
     "output_type": "stream",
     "text": [
      "\r"
     ]
    }
   ],
   "source": [
    "from tqdm import tqdm\n",
    "\n",
    "def train_model(model, criterion, optimizer, train_loader, val_loader, epochs, device):\n",
    "    history = {\"train_loss\": [], \"val_loss\": [], \"train_acc\": [], \"val_acc\": []}\n",
    "\n",
    "    for epoch in range(epochs):\n",
    "        print(f\"\\nEpoch {epoch+1}/{epochs}\")\n",
    "\n",
    "        # -----------------------------\n",
    "        # Training phase\n",
    "        # -----------------------------\n",
    "        model.train()\n",
    "        running_loss, correct, total = 0.0, 0, 0\n",
    "        loop = tqdm(train_loader, desc=f\"Train {epoch+1}/{epochs}\", leave=False)\n",
    "\n",
    "        for images, labels in loop:\n",
    "            images, labels = images.to(device), labels.to(device)\n",
    "\n",
    "            optimizer.zero_grad()\n",
    "            outputs = model(images)\n",
    "            loss = criterion(outputs, labels)\n",
    "\n",
    "            loss.backward()\n",
    "            optimizer.step()\n",
    "\n",
    "            running_loss += loss.item() * images.size(0)\n",
    "            preds = outputs.argmax(1)\n",
    "            correct += (preds == labels).sum().item()\n",
    "            total += labels.size(0)\n",
    "\n",
    "            loop.set_postfix(loss=loss.item())\n",
    "\n",
    "        train_loss = running_loss / total\n",
    "        train_acc  = correct / total\n",
    "\n",
    "        # -----------------------------\n",
    "        # Validation phase\n",
    "        # -----------------------------\n",
    "        model.eval()\n",
    "        val_loss, val_correct, val_total = 0.0, 0, 0\n",
    "        loop_val = tqdm(val_loader, desc=f\"Val {epoch+1}/{epochs}\", leave=False)\n",
    "\n",
    "        with torch.no_grad():\n",
    "            for images, labels in loop_val:\n",
    "                images, labels = images.to(device), labels.to(device)\n",
    "                outputs = model(images)\n",
    "                loss = criterion(outputs, labels)\n",
    "\n",
    "                val_loss += loss.item() * images.size(0)\n",
    "                preds = outputs.argmax(1)\n",
    "                val_correct += (preds == labels).sum().item()\n",
    "                val_total += labels.size(0)\n",
    "\n",
    "                loop_val.set_postfix(loss=loss.item())\n",
    "\n",
    "        val_loss /= val_total\n",
    "        val_acc = val_correct / val_total\n",
    "\n",
    "        # Save history\n",
    "        history[\"train_loss\"].append(train_loss)\n",
    "        history[\"val_loss\"].append(val_loss)\n",
    "        history[\"train_acc\"].append(train_acc)\n",
    "        history[\"val_acc\"].append(val_acc)\n",
    "\n",
    "        print(f\"Epoch {epoch+1}/{epochs} - \"\n",
    "              f\"Train Loss: {train_loss:.4f}, Train Acc: {train_acc:.4f}, \"\n",
    "              f\"Val Loss: {val_loss:.4f}, Val Acc: {val_acc:.4f}\")\n",
    "\n",
    "    return history\n",
    "\n",
    "\n",
    "# ============================\n",
    "# Run Training\n",
    "# ============================\n",
    "num_epochs = 20\n",
    "history = train_model(model, criterion, optimizer, train_loader, val_loader, num_epochs, device)\n"
   ]
  },
  {
   "cell_type": "code",
   "execution_count": 6,
   "id": "5d0d8e50",
   "metadata": {
    "execution": {
     "iopub.execute_input": "2025-09-30T10:55:49.479519Z",
     "iopub.status.busy": "2025-09-30T10:55:49.478844Z",
     "iopub.status.idle": "2025-09-30T10:55:49.829904Z",
     "shell.execute_reply": "2025-09-30T10:55:49.829156Z"
    },
    "papermill": {
     "duration": 0.639216,
     "end_time": "2025-09-30T10:55:49.831077",
     "exception": false,
     "start_time": "2025-09-30T10:55:49.191861",
     "status": "completed"
    },
    "tags": []
   },
   "outputs": [
    {
     "data": {
      "image/png": "[encoded data removed]",
      "text/plain": [
       "<Figure size 1200x500 with 2 Axes>"
      ]
     },
     "metadata": {},
     "output_type": "display_data"
    }
   ],
   "source": [
    "# ============================\n",
    "# 6. Plot Training Curves\n",
    "# ============================\n",
    "plt.figure(figsize=(12,5))\n",
    "\n",
    "plt.subplot(1,2,1)\n",
    "plt.plot(history[\"train_loss\"], label=\"Train Loss\")\n",
    "plt.plot(history[\"val_loss\"], label=\"Val Loss\")\n",
    "plt.xlabel(\"Epochs\"); plt.ylabel(\"Loss\"); plt.legend(); plt.title(\"Loss Curve\")\n",
    "\n",
    "plt.subplot(1,2,2)\n",
    "plt.plot(history[\"train_acc\"], label=\"Train Acc\")\n",
    "plt.plot(history[\"val_acc\"], label=\"Val Acc\")\n",
    "plt.xlabel(\"Epochs\"); plt.ylabel(\"Accuracy\"); plt.legend(); plt.title(\"Accuracy Curve\")\n",
    "\n",
    "plt.show()\n"
   ]
  },
  {
   "cell_type": "code",
   "execution_count": 7,
   "id": "7f084829",
   "metadata": {
    "execution": {
     "iopub.execute_input": "2025-09-30T10:55:50.290046Z",
     "iopub.status.busy": "2025-09-30T10:55:50.289786Z",
     "iopub.status.idle": "2025-09-30T10:56:06.486037Z",
     "shell.execute_reply": "2025-09-30T10:56:06.485037Z"
    },
    "papermill": {
     "duration": 16.423644,
     "end_time": "2025-09-30T10:56:06.487232",
     "exception": false,
     "start_time": "2025-09-30T10:55:50.063588",
     "status": "completed"
    },
    "tags": []
   },
   "outputs": [
    {
     "data": {
      "image/png": "[encoded data removed]",
      "text/plain": [
       "<Figure size 600x500 with 2 Axes>"
      ]
     },
     "metadata": {},
     "output_type": "display_data"
    },
    {
     "name": "stdout",
     "output_type": "stream",
     "text": [
      "\n",
      "=== Test Metrics ===\n",
      "Accuracy: 0.9807\n",
      "Precision: 0.9811\n",
      "Recall:    0.9812\n",
      "F1 Score:  0.9811\n"
     ]
    }
   ],
   "source": [
    "# ============================\n",
    "# 7. Evaluation Function\n",
    "# ============================\n",
    "from sklearn.metrics import accuracy_score, precision_score, recall_score, f1_score\n",
    "\n",
    "def evaluate_model(model, test_loader, class_names, device):\n",
    "    model.eval()\n",
    "    y_true, y_pred = [], []\n",
    "    with torch.no_grad():\n",
    "        for img_rgb, labels in test_loader:  # no scharr now\n",
    "            img_rgb = img_rgb.to(device)\n",
    "            labels = labels.to(device)\n",
    "\n",
    "            out = model(img_rgb)             # forward with RGB only\n",
    "            preds = out.argmax(1)\n",
    "\n",
    "            y_true.extend(labels.cpu().numpy())\n",
    "            y_pred.extend(preds.cpu().numpy())\n",
    "\n",
    "    # Confusion matrix\n",
    "    cm = confusion_matrix(y_true, y_pred)\n",
    "    plt.figure(figsize=(6,5))\n",
    "    sns.heatmap(cm, annot=True, fmt='d', cmap='Blues',\n",
    "                xticklabels=class_names, yticklabels=class_names)\n",
    "    plt.xlabel(\"Predicted\")\n",
    "    plt.ylabel(\"True\")\n",
    "    plt.title(\"Confusion Matrix\")\n",
    "    plt.show()\n",
    "\n",
    "    # Metrics\n",
    "    acc = accuracy_score(y_true, y_pred)\n",
    "    prec = precision_score(y_true, y_pred, average='macro', zero_division=0)\n",
    "    rec = recall_score(y_true, y_pred, average='macro', zero_division=0)\n",
    "    f1 = f1_score(y_true, y_pred, average='macro', zero_division=0)\n",
    "    print(\"\\n=== Test Metrics ===\")\n",
    "    print(f\"Accuracy: {acc:.4f}\\nPrecision: {prec:.4f}\\nRecall:    {rec:.4f}\\nF1 Score:  {f1:.4f}\")\n",
    "    return acc, prec, rec, f1\n",
    "\n",
    "# Usage\n",
    "test_metrics = evaluate_model(model, test_loader, class_names, device)\n"
   ]
  },
  {
   "cell_type": "code",
   "execution_count": null,
   "id": "eb2d40ee",
   "metadata": {
    "papermill": {
     "duration": 0.224437,
     "end_time": "2025-09-30T10:56:06.938613",
     "exception": false,
     "start_time": "2025-09-30T10:56:06.714176",
     "status": "completed"
    },
    "tags": []
   },
   "outputs": [],
   "source": []
  }
 ],
 "metadata": {
  "kaggle": {
   "accelerator": "gpu",
   "dataSources": [
    {
     "datasetId": 8329360,
     "sourceId": 13146723,
     "sourceType": "datasetVersion"
    }
   ],
   "dockerImageVersionId": 31090,
   "isGpuEnabled": true,
   "isInternetEnabled": true,
   "language": "python",
   "sourceType": "notebook"
  },
  "kernelspec": {
   "display_name": "Python 3",
   "language": "python",
   "name": "python3"
  },
  "language_info": {
   "codemirror_mode": {
    "name": "ipython",
    "version": 3
   },
   "file_extension": ".py",
   "mimetype": "text/x-python",
   "name": "python",
   "nbconvert_exporter": "python",
   "pygments_lexer": "ipython3",
   "version": "3.11.13"
  },
  "papermill": {
   "default_parameters": {},
   "duration": 3202.115698,
   "end_time": "2025-09-30T10:56:10.071533",
   "environment_variables": {},
   "exception": null,
   "input_path": "__notebook__.ipynb",
   "output_path": "__notebook__.ipynb",
   "parameters": {},
   "start_time": "2025-09-30T10:02:47.955835",
   "version": "2.6.0"
  }
 },
 "nbformat": 4,
 "nbformat_minor": 5
}
