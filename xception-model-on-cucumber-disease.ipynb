{
 "cells": [
  {
   "cell_type": "code",
   "execution_count": 1,
   "id": "2dacb6e1",
   "metadata": {
    "_cell_guid": "b1076dfc-b9ad-4769-8c92-a6c4dae69d19",
    "_uuid": "8f2839f25d086af736a60e9eeb907d3b93b6e0e5",
    "execution": {
     "iopub.execute_input": "2025-09-22T10:59:31.026697Z",
     "iopub.status.busy": "2025-09-22T10:59:31.026439Z",
     "iopub.status.idle": "2025-09-22T10:59:42.102362Z",
     "shell.execute_reply": "2025-09-22T10:59:42.101481Z"
    },
    "papermill": {
     "duration": 11.080597,
     "end_time": "2025-09-22T10:59:42.103485",
     "exception": false,
     "start_time": "2025-09-22T10:59:31.022888",
     "status": "completed"
    },
    "tags": []
   },
   "outputs": [
    {
     "name": "stdout",
     "output_type": "stream",
     "text": [
      "Classes: ['Anthracnose', 'Bacterial Wilt', 'Belly Rot', 'Downy Mildew', 'Fresh Cucumber', 'Fresh Leaf', 'Pythium Fruit Rot']\n",
      "Train samples: 903, Val samples: 112, Test samples: 114\n"
     ]
    }
   ],
   "source": [
    "import os\n",
    "from torchvision import datasets, transforms\n",
    "from torch.utils.data import DataLoader, random_split\n",
    "\n",
    "# Path to dataset\n",
    "data_dir = \"/kaggle/input/cucumber-disease/cucumber_disease\"\n",
    "\n",
    "# Transformations (resize + tensor + normalization for VGG16)\n",
    "transform = transforms.Compose([\n",
    "    transforms.Resize((224, 224)),   # VGG16 expects 224x224 images\n",
    "    transforms.ToTensor(),\n",
    "    transforms.Normalize(mean=[0.485, 0.456, 0.406], \n",
    "                         std=[0.229, 0.224, 0.225])  # ImageNet normalization\n",
    "])\n",
    "\n",
    "# Load dataset\n",
    "dataset = datasets.ImageFolder(root=data_dir, transform=transform)\n",
    "\n",
    "# Dataset sizes\n",
    "dataset_size = len(dataset)\n",
    "train_size = int(0.8 * dataset_size)   # 80%\n",
    "val_size   = int(0.1 * dataset_size)   # 10%\n",
    "test_size  = dataset_size - train_size - val_size  # remaining 10%\n",
    "\n",
    "# Split directly into train, val, test\n",
    "train_dataset, val_dataset, test_dataset = random_split(dataset, [train_size, val_size, test_size])\n",
    "\n",
    "# DataLoaders\n",
    "train_loader = DataLoader(train_dataset, batch_size=32, shuffle=True)\n",
    "val_loader   = DataLoader(val_dataset, batch_size=32, shuffle=False)\n",
    "test_loader  = DataLoader(test_dataset, batch_size=32, shuffle=False)\n",
    "\n",
    "# Class names\n",
    "class_names = dataset.classes\n",
    "print(\"Classes:\", class_names)\n",
    "print(f\"Train samples: {len(train_dataset)}, Val samples: {len(val_dataset)}, Test samples: {len(test_dataset)}\")\n"
   ]
  },
  {
   "cell_type": "code",
   "execution_count": 2,
   "id": "86e0f509",
   "metadata": {
    "execution": {
     "iopub.execute_input": "2025-09-22T10:59:42.109179Z",
     "iopub.status.busy": "2025-09-22T10:59:42.108510Z",
     "iopub.status.idle": "2025-09-22T10:59:42.130556Z",
     "shell.execute_reply": "2025-09-22T10:59:42.129751Z"
    },
    "papermill": {
     "duration": 0.025686,
     "end_time": "2025-09-22T10:59:42.131641",
     "exception": false,
     "start_time": "2025-09-22T10:59:42.105955",
     "status": "completed"
    },
    "tags": []
   },
   "outputs": [
    {
     "name": "stdout",
     "output_type": "stream",
     "text": [
      "Classes: ['Anthracnose', 'Bacterial Wilt', 'Belly Rot', 'Downy Mildew', 'Fresh Cucumber', 'Fresh Leaf', 'Pythium Fruit Rot']\n",
      "Train samples: 903, Val samples: 112, Test samples: 114\n"
     ]
    }
   ],
   "source": [
    "import os\n",
    "from torchvision import datasets, transforms\n",
    "from torch.utils.data import DataLoader, random_split\n",
    "\n",
    "# ======================\n",
    "# Hyperparameters\n",
    "# ======================\n",
    "batch_size = 32\n",
    "epochs = 15\n",
    "image_size = 224  \n",
    "\n",
    "# Path to dataset\n",
    "data_dir = \"/kaggle/input/cucumber-disease/cucumber_disease\"\n",
    "\n",
    "# Transformations (resize + tensor + normalization for VGG16)\n",
    "transform = transforms.Compose([\n",
    "    transforms.Resize((image_size, image_size)),\n",
    "    transforms.ToTensor(),\n",
    "    transforms.Normalize(mean=[0.485, 0.456, 0.406], \n",
    "                         std=[0.229, 0.224, 0.225])  # ImageNet normalization\n",
    "])\n",
    "\n",
    "# Load dataset\n",
    "dataset = datasets.ImageFolder(root=data_dir, transform=transform)\n",
    "\n",
    "# Dataset sizes\n",
    "dataset_size = len(dataset)\n",
    "train_size = int(0.8 * dataset_size)   # 80%\n",
    "val_size   = int(0.1 * dataset_size)   # 10%\n",
    "test_size  = dataset_size - train_size - val_size  # 10%\n",
    "\n",
    "# Split directly into train, val, test\n",
    "train_dataset, val_dataset, test_dataset = random_split(dataset, [train_size, val_size, test_size])\n",
    "\n",
    "# DataLoaders\n",
    "train_loader = DataLoader(train_dataset, batch_size=batch_size, shuffle=True)\n",
    "val_loader   = DataLoader(val_dataset, batch_size=batch_size, shuffle=False)\n",
    "test_loader  = DataLoader(test_dataset, batch_size=batch_size, shuffle=False)\n",
    "\n",
    "# Class names\n",
    "class_names = dataset.classes\n",
    "print(\"Classes:\", class_names)\n",
    "print(f\"Train samples: {len(train_dataset)}, Val samples: {len(val_dataset)}, Test samples: {len(test_dataset)}\")\n"
   ]
  },
  {
   "cell_type": "code",
   "execution_count": 3,
   "id": "bca239af",
   "metadata": {
    "execution": {
     "iopub.execute_input": "2025-09-22T10:59:42.136378Z",
     "iopub.status.busy": "2025-09-22T10:59:42.136163Z",
     "iopub.status.idle": "2025-09-22T10:59:48.295353Z",
     "shell.execute_reply": "2025-09-22T10:59:48.294743Z"
    },
    "papermill": {
     "duration": 6.16306,
     "end_time": "2025-09-22T10:59:48.296734",
     "exception": false,
     "start_time": "2025-09-22T10:59:42.133674",
     "status": "completed"
    },
    "tags": []
   },
   "outputs": [
    {
     "name": "stderr",
     "output_type": "stream",
     "text": [
      "/usr/local/lib/python3.11/dist-packages/timm/models/_factory.py:126: UserWarning: Mapping deprecated model name xception to current legacy_xception.\n",
      "  model = create_fn(\n",
      "Downloading: \"https://github.com/rwightman/pytorch-image-models/releases/download/v0.1-cadene/xception-43020ad28.pth\" to /root/.cache/torch/hub/checkpoints/xception-43020ad28.pth\n"
     ]
    }
   ],
   "source": [
    "import torch\n",
    "import torch.nn as nn\n",
    "import timm  \n",
    "\n",
    "device = torch.device(\"cuda\" if torch.cuda.is_available() else \"cpu\")\n",
    "\n",
    "# -----------------------------\n",
    "# Load pretrained Xception\n",
    "# -----------------------------\n",
    "model = timm.create_model(\"xception\", pretrained=True)\n",
    "\n",
    "# -----------------------------\n",
    "# Freeze all layers\n",
    "# -----------------------------\n",
    "for param in model.parameters():\n",
    "    param.requires_grad = False\n",
    "\n",
    "# -----------------------------\n",
    "# Unfreeze last 30% layers\n",
    "# -----------------------------\n",
    "layers = list(model.children())[:-1]  # get all feature layers except classifier\n",
    "num_layers = len(layers)\n",
    "unfreeze_from = int(num_layers * 0.7)\n",
    "\n",
    "for layer in layers[unfreeze_from:]:\n",
    "    for param in layer.parameters():\n",
    "        param.requires_grad = True\n",
    "\n",
    "# -----------------------------\n",
    "# Replace classifier\n",
    "# -----------------------------\n",
    "num_classes = 7\n",
    "in_features = model.get_classifier().in_features  # timm helper works here\n",
    "model.reset_classifier(num_classes=num_classes)   # cleaner way than manual nn.Linear\n",
    "\n",
    "model = model.to(device)\n",
    "\n",
    "# -----------------------------\n",
    "# Loss & Optimizer\n",
    "# -----------------------------\n",
    "criterion = nn.CrossEntropyLoss()\n",
    "optimizer = torch.optim.Adam(\n",
    "    filter(lambda p: p.requires_grad, model.parameters()), \n",
    "    lr=0.0001\n",
    ")\n"
   ]
  },
  {
   "cell_type": "code",
   "execution_count": 4,
   "id": "4426516d",
   "metadata": {
    "execution": {
     "iopub.execute_input": "2025-09-22T10:59:48.302024Z",
     "iopub.status.busy": "2025-09-22T10:59:48.301786Z",
     "iopub.status.idle": "2025-09-22T11:10:47.600834Z",
     "shell.execute_reply": "2025-09-22T11:10:47.600051Z"
    },
    "papermill": {
     "duration": 659.303149,
     "end_time": "2025-09-22T11:10:47.602139",
     "exception": false,
     "start_time": "2025-09-22T10:59:48.298990",
     "status": "completed"
    },
    "tags": []
   },
   "outputs": [
    {
     "name": "stdout",
     "output_type": "stream",
     "text": [
      "\n",
      "Epoch 1/15\n"
     ]
    },
    {
     "name": "stderr",
     "output_type": "stream",
     "text": [
      "                                                                               \r"
     ]
    },
    {
     "name": "stdout",
     "output_type": "stream",
     "text": [
      "Epoch 1/15 - Train Loss: 1.4946, Train Acc: 0.6456, Val Loss: 0.7940, Val Acc: 0.8661\n",
      "\n",
      "Epoch 2/15\n"
     ]
    },
    {
     "name": "stderr",
     "output_type": "stream",
     "text": [
      "                                                                               \r"
     ]
    },
    {
     "name": "stdout",
     "output_type": "stream",
     "text": [
      "Epoch 2/15 - Train Loss: 0.6985, Train Acc: 0.8870, Val Loss: 0.3597, Val Acc: 0.9286\n",
      "\n",
      "Epoch 3/15\n"
     ]
    },
    {
     "name": "stderr",
     "output_type": "stream",
     "text": [
      "                                                                              \r"
     ]
    },
    {
     "name": "stdout",
     "output_type": "stream",
     "text": [
      "Epoch 3/15 - Train Loss: 0.3732, Train Acc: 0.9336, Val Loss: 0.2245, Val Acc: 0.9464\n",
      "\n",
      "Epoch 4/15\n"
     ]
    },
    {
     "name": "stderr",
     "output_type": "stream",
     "text": [
      "                                                                               \r"
     ]
    },
    {
     "name": "stdout",
     "output_type": "stream",
     "text": [
      "Epoch 4/15 - Train Loss: 0.2326, Train Acc: 0.9546, Val Loss: 0.1825, Val Acc: 0.9643\n",
      "\n",
      "Epoch 5/15\n"
     ]
    },
    {
     "name": "stderr",
     "output_type": "stream",
     "text": [
      "                                                                               \r"
     ]
    },
    {
     "name": "stdout",
     "output_type": "stream",
     "text": [
      "Epoch 5/15 - Train Loss: 0.1678, Train Acc: 0.9668, Val Loss: 0.1648, Val Acc: 0.9643\n",
      "\n",
      "Epoch 6/15\n"
     ]
    },
    {
     "name": "stderr",
     "output_type": "stream",
     "text": [
      "                                                                               \r"
     ]
    },
    {
     "name": "stdout",
     "output_type": "stream",
     "text": [
      "Epoch 6/15 - Train Loss: 0.1237, Train Acc: 0.9845, Val Loss: 0.1382, Val Acc: 0.9643\n",
      "\n",
      "Epoch 7/15\n"
     ]
    },
    {
     "name": "stderr",
     "output_type": "stream",
     "text": [
      "                                                                               \r"
     ]
    },
    {
     "name": "stdout",
     "output_type": "stream",
     "text": [
      "Epoch 7/15 - Train Loss: 0.0835, Train Acc: 0.9922, Val Loss: 0.1416, Val Acc: 0.9643\n",
      "\n",
      "Epoch 8/15\n"
     ]
    },
    {
     "name": "stderr",
     "output_type": "stream",
     "text": [
      "                                                                               \r"
     ]
    },
    {
     "name": "stdout",
     "output_type": "stream",
     "text": [
      "Epoch 8/15 - Train Loss: 0.0615, Train Acc: 0.9911, Val Loss: 0.1292, Val Acc: 0.9643\n",
      "\n",
      "Epoch 9/15\n"
     ]
    },
    {
     "name": "stderr",
     "output_type": "stream",
     "text": [
      "                                                                               \r"
     ]
    },
    {
     "name": "stdout",
     "output_type": "stream",
     "text": [
      "Epoch 9/15 - Train Loss: 0.0444, Train Acc: 0.9956, Val Loss: 0.1426, Val Acc: 0.9554\n",
      "\n",
      "Epoch 10/15\n"
     ]
    },
    {
     "name": "stderr",
     "output_type": "stream",
     "text": [
      "                                                                                \r"
     ]
    },
    {
     "name": "stdout",
     "output_type": "stream",
     "text": [
      "Epoch 10/15 - Train Loss: 0.0399, Train Acc: 0.9945, Val Loss: 0.1276, Val Acc: 0.9643\n",
      "\n",
      "Epoch 11/15\n"
     ]
    },
    {
     "name": "stderr",
     "output_type": "stream",
     "text": [
      "                                                                                 \r"
     ]
    },
    {
     "name": "stdout",
     "output_type": "stream",
     "text": [
      "Epoch 11/15 - Train Loss: 0.0319, Train Acc: 0.9967, Val Loss: 0.1369, Val Acc: 0.9554\n",
      "\n",
      "Epoch 12/15\n"
     ]
    },
    {
     "name": "stderr",
     "output_type": "stream",
     "text": [
      "                                                                                \r"
     ]
    },
    {
     "name": "stdout",
     "output_type": "stream",
     "text": [
      "Epoch 12/15 - Train Loss: 0.0321, Train Acc: 0.9978, Val Loss: 0.1180, Val Acc: 0.9643\n",
      "\n",
      "Epoch 13/15\n"
     ]
    },
    {
     "name": "stderr",
     "output_type": "stream",
     "text": [
      "                                                                                \r"
     ]
    },
    {
     "name": "stdout",
     "output_type": "stream",
     "text": [
      "Epoch 13/15 - Train Loss: 0.0213, Train Acc: 0.9989, Val Loss: 0.1317, Val Acc: 0.9643\n",
      "\n",
      "Epoch 14/15\n"
     ]
    },
    {
     "name": "stderr",
     "output_type": "stream",
     "text": [
      "                                                                                \r"
     ]
    },
    {
     "name": "stdout",
     "output_type": "stream",
     "text": [
      "Epoch 14/15 - Train Loss: 0.0218, Train Acc: 0.9978, Val Loss: 0.1252, Val Acc: 0.9643\n",
      "\n",
      "Epoch 15/15\n"
     ]
    },
    {
     "name": "stderr",
     "output_type": "stream",
     "text": [
      "                                                                                 \r"
     ]
    },
    {
     "name": "stdout",
     "output_type": "stream",
     "text": [
      "Epoch 15/15 - Train Loss: 0.0286, Train Acc: 0.9978, Val Loss: 0.1349, Val Acc: 0.9643\n"
     ]
    }
   ],
   "source": [
    "from tqdm import tqdm\n",
    "\n",
    "def train_model(model, criterion, optimizer, train_loader, val_loader, epochs, device, aux_logits=False):\n",
    "    history = {\"train_loss\": [], \"val_loss\": [], \"train_acc\": [], \"val_acc\": []}\n",
    "\n",
    "    for epoch in range(epochs):\n",
    "        print(f\"\\nEpoch {epoch+1}/{epochs}\")\n",
    "\n",
    "        # -----------------------------\n",
    "        # Training phase\n",
    "        # -----------------------------\n",
    "        model.train()\n",
    "        running_loss, correct, total = 0.0, 0, 0\n",
    "        loop = tqdm(train_loader, leave=False)\n",
    "\n",
    "        for images, labels in loop:\n",
    "            images, labels = images.to(device), labels.to(device)\n",
    "\n",
    "            optimizer.zero_grad()\n",
    "            outputs = model(images)\n",
    "\n",
    "            if aux_logits and isinstance(outputs, tuple):\n",
    "                # InceptionV3 (main + auxiliary output)\n",
    "                main_outputs, aux_outputs = outputs\n",
    "                loss1 = criterion(main_outputs, labels)\n",
    "                loss2 = criterion(aux_outputs, labels)\n",
    "                loss = loss1 + 0.4 * loss2   # weighted sum\n",
    "                preds = torch.max(main_outputs, 1)[1]\n",
    "            else:\n",
    "                # Normal models\n",
    "                loss = criterion(outputs, labels)\n",
    "                preds = torch.max(outputs, 1)[1]\n",
    "\n",
    "            loss.backward()\n",
    "            optimizer.step()\n",
    "\n",
    "            running_loss += loss.item() * images.size(0)\n",
    "            correct += (preds == labels).sum().item()\n",
    "            total += labels.size(0)\n",
    "\n",
    "            loop.set_description(f\"Train Epoch [{epoch+1}/{epochs}]\")\n",
    "            loop.set_postfix(loss=loss.item())\n",
    "\n",
    "        train_loss = running_loss / total\n",
    "        train_acc = correct / total\n",
    "\n",
    "        # -----------------------------\n",
    "        # Validation phase\n",
    "        # -----------------------------\n",
    "        model.eval()\n",
    "        val_loss, val_correct, val_total = 0.0, 0, 0\n",
    "        with torch.no_grad():\n",
    "            for images, labels in val_loader:\n",
    "                images, labels = images.to(device), labels.to(device)\n",
    "                outputs = model(images)\n",
    "\n",
    "                if aux_logits and isinstance(outputs, tuple):\n",
    "                    outputs = outputs[0]  # only use main output for validation\n",
    "\n",
    "                loss = criterion(outputs, labels)\n",
    "                val_loss += loss.item() * images.size(0)\n",
    "                preds = torch.max(outputs, 1)[1]\n",
    "                val_correct += (preds == labels).sum().item()\n",
    "                val_total += labels.size(0)\n",
    "\n",
    "        val_loss /= val_total\n",
    "        val_acc = val_correct / val_total\n",
    "\n",
    "        # Save history\n",
    "        history[\"train_loss\"].append(train_loss)\n",
    "        history[\"val_loss\"].append(val_loss)\n",
    "        history[\"train_acc\"].append(train_acc)\n",
    "        history[\"val_acc\"].append(val_acc)\n",
    "\n",
    "        print(f\"Epoch {epoch+1}/{epochs} - \"\n",
    "              f\"Train Loss: {train_loss:.4f}, Train Acc: {train_acc:.4f}, \"\n",
    "              f\"Val Loss: {val_loss:.4f}, Val Acc: {val_acc:.4f}\")\n",
    "\n",
    "    return history\n",
    "history = train_model(model, criterion, optimizer, train_loader, val_loader, epochs, device)"
   ]
  },
  {
   "cell_type": "code",
   "execution_count": 5,
   "id": "ffd6d1d8",
   "metadata": {
    "execution": {
     "iopub.execute_input": "2025-09-22T11:10:47.712115Z",
     "iopub.status.busy": "2025-09-22T11:10:47.711402Z",
     "iopub.status.idle": "2025-09-22T11:10:48.067541Z",
     "shell.execute_reply": "2025-09-22T11:10:48.066839Z"
    },
    "papermill": {
     "duration": 0.412667,
     "end_time": "2025-09-22T11:10:48.068997",
     "exception": false,
     "start_time": "2025-09-22T11:10:47.656330",
     "status": "completed"
    },
    "tags": []
   },
   "outputs": [
    {
     "data": {
      "image/png": "[encoded data removed]",
      "text/plain": [
       "<Figure size 1200x500 with 2 Axes>"
      ]
     },
     "metadata": {},
     "output_type": "display_data"
    }
   ],
   "source": [
    "import matplotlib.pyplot as plt\n",
    "\n",
    "def plot_history(history):\n",
    "    epochs = range(1, len(history[\"train_loss\"]) + 1)\n",
    "\n",
    "    plt.figure(figsize=(12,5))\n",
    "\n",
    "    # Loss\n",
    "    plt.subplot(1,2,1)\n",
    "    plt.plot(epochs, history[\"train_loss\"], label=\"Train Loss\")\n",
    "    plt.plot(epochs, history[\"val_loss\"], label=\"Val Loss\")\n",
    "    plt.xlabel(\"Epochs\")\n",
    "    plt.ylabel(\"Loss\")\n",
    "    plt.title(\"Training vs Validation Loss\")\n",
    "    plt.legend()\n",
    "\n",
    "    # Accuracy\n",
    "    plt.subplot(1,2,2)\n",
    "    plt.plot(epochs, history[\"train_acc\"], label=\"Train Acc\")\n",
    "    plt.plot(epochs, history[\"val_acc\"], label=\"Val Acc\")\n",
    "    plt.xlabel(\"Epochs\")\n",
    "    plt.ylabel(\"Accuracy\")\n",
    "    plt.title(\"Training vs Validation Accuracy\")\n",
    "    plt.legend()\n",
    "\n",
    "    plt.show()\n",
    "\n",
    "plot_history(history)\n"
   ]
  },
  {
   "cell_type": "code",
   "execution_count": 6,
   "id": "fd23b80c",
   "metadata": {
    "execution": {
     "iopub.execute_input": "2025-09-22T11:10:48.180851Z",
     "iopub.status.busy": "2025-09-22T11:10:48.180167Z",
     "iopub.status.idle": "2025-09-22T11:10:57.588442Z",
     "shell.execute_reply": "2025-09-22T11:10:57.587507Z"
    },
    "papermill": {
     "duration": 9.464987,
     "end_time": "2025-09-22T11:10:57.589563",
     "exception": false,
     "start_time": "2025-09-22T11:10:48.124576",
     "status": "completed"
    },
    "tags": []
   },
   "outputs": [
    {
     "data": {
      "image/png": "[encoded data removed]",
      "text/plain": [
       "<Figure size 800x600 with 2 Axes>"
      ]
     },
     "metadata": {},
     "output_type": "display_data"
    },
    {
     "name": "stdout",
     "output_type": "stream",
     "text": [
      "\n",
      "Classification Report:\n",
      "\n",
      "                   precision    recall  f1-score   support\n",
      "\n",
      "      Anthracnose       1.00      1.00      1.00        19\n",
      "   Bacterial Wilt       1.00      1.00      1.00        13\n",
      "        Belly Rot       1.00      0.90      0.95        20\n",
      "     Downy Mildew       1.00      1.00      1.00        15\n",
      "   Fresh Cucumber       0.89      1.00      0.94        17\n",
      "       Fresh Leaf       1.00      1.00      1.00        15\n",
      "Pythium Fruit Rot       1.00      1.00      1.00        15\n",
      "\n",
      "         accuracy                           0.98       114\n",
      "        macro avg       0.98      0.99      0.98       114\n",
      "     weighted avg       0.98      0.98      0.98       114\n",
      "\n"
     ]
    }
   ],
   "source": [
    "from sklearn.metrics import confusion_matrix, classification_report\n",
    "import seaborn as sns\n",
    "import numpy as np\n",
    "\n",
    "def evaluate_model(model, test_loader, class_names, device):\n",
    "    model.eval()\n",
    "    y_true, y_pred = [], []\n",
    "\n",
    "    with torch.no_grad():\n",
    "        for images, labels in test_loader:\n",
    "            images, labels = images.to(device), labels.to(device)\n",
    "            outputs = model(images)\n",
    "            _, preds = torch.max(outputs, 1)\n",
    "\n",
    "            y_true.extend(labels.cpu().numpy())\n",
    "            y_pred.extend(preds.cpu().numpy())\n",
    "\n",
    "    # Confusion Matrix\n",
    "    cm = confusion_matrix(y_true, y_pred)\n",
    "    plt.figure(figsize=(8,6))\n",
    "    sns.heatmap(cm, annot=True, fmt=\"d\", cmap=\"Blues\", \n",
    "                xticklabels=class_names, yticklabels=class_names)\n",
    "    plt.xlabel(\"Predicted\")\n",
    "    plt.ylabel(\"True\")\n",
    "    plt.title(\"Confusion Matrix\")\n",
    "    plt.show()\n",
    "\n",
    "    # Classification Report\n",
    "    print(\"\\nClassification Report:\\n\")\n",
    "    print(classification_report(y_true, y_pred, target_names=class_names))\n",
    "\n",
    "# Test\n",
    "evaluate_model(model, test_loader, class_names, device)\n"
   ]
  },
  {
   "cell_type": "code",
   "execution_count": null,
   "id": "ec053a58",
   "metadata": {
    "papermill": {
     "duration": 0.055371,
     "end_time": "2025-09-22T11:10:57.701739",
     "exception": false,
     "start_time": "2025-09-22T11:10:57.646368",
     "status": "completed"
    },
    "tags": []
   },
   "outputs": [],
   "source": []
  }
 ],
 "metadata": {
  "kaggle": {
   "accelerator": "gpu",
   "dataSources": [
    {
     "datasetId": 8247646,
     "sourceId": 13026052,
     "sourceType": "datasetVersion"
    }
   ],
   "dockerImageVersionId": 31090,
   "isGpuEnabled": true,
   "isInternetEnabled": true,
   "language": "python",
   "sourceType": "notebook"
  },
  "kernelspec": {
   "display_name": "Python 3",
   "language": "python",
   "name": "python3"
  },
  "language_info": {
   "codemirror_mode": {
    "name": "ipython",
    "version": 3
   },
   "file_extension": ".py",
   "mimetype": "text/x-python",
   "name": "python",
   "nbconvert_exporter": "python",
   "pygments_lexer": "ipython3",
   "version": "3.11.13"
  },
  "papermill": {
   "default_parameters": {},
   "duration": 693.609303,
   "end_time": "2025-09-22T11:11:00.408552",
   "environment_variables": {},
   "exception": null,
   "input_path": "__notebook__.ipynb",
   "output_path": "__notebook__.ipynb",
   "parameters": {},
   "start_time": "2025-09-22T10:59:26.799249",
   "version": "2.6.0"
  }
 },
 "nbformat": 4,
 "nbformat_minor": 5
}
